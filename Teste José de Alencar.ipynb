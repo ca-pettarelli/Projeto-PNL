{
 "cells": [
  {
   "cell_type": "code",
   "execution_count": 1,
   "metadata": {},
   "outputs": [
    {
     "name": "stdout",
     "output_type": "stream",
     "text": [
      "412577\n",
      "<class 'str'>\n"
     ]
    }
   ],
   "source": [
    "#imports\n",
    "import nltk\n",
    "from urllib import request\n",
    "\n",
    "#armazenando na lista as urls dos textos\n",
    "urls = [\"http://www.gutenberg.org/cache/epub/44540/pg44540.txt\",\"http://www.gutenberg.org/cache/epub/29040/pg29040.txt\" ,\"http://www.gutenberg.org/cache/epub/38496/pg38496.txt\"]\n",
    "\n",
    "livro_raw =\"\"\n",
    "\n",
    "#colocando todos os texto em uma string\n",
    "for url in urls:\n",
    "    livro = request.urlopen(url)\n",
    "    livro_raw += livro.read().decode('utf-8-sig') \n",
    "    \n",
    "print(len(livro_raw))\n",
    "print(type(livro_raw))"
   ]
  },
  {
   "cell_type": "code",
   "execution_count": 2,
   "metadata": {},
   "outputs": [],
   "source": [
    "#imports\n",
    "from nltk import word_tokenize\n",
    "stopwords = nltk.corpus.stopwords.words('portuguese')"
   ]
  },
  {
   "cell_type": "code",
   "execution_count": 3,
   "metadata": {},
   "outputs": [
    {
     "name": "stdout",
     "output_type": "stream",
     "text": [
      "['the project gutenberg ebook of cinco minutos, by josé martiniano de alencar\\r\\n\\r\\nthis ebook is for the use of anyone anywhere at no cost and with\\r\\nalmost no restrictions whatsoever.', 'you may copy it, give it away or\\r\\nre-use it under the terms of the project gutenberg license included\\r\\nwith this ebook or online at www.gutenberg.org\\r\\n\\r\\n\\r\\ntitle: cinco minutos\\r\\n\\r\\nauthor: josé martiniano de alencar\\r\\n\\r\\nrelease date: december 29, 2013 [ebook #44540]\\r\\n\\r\\nlanguage: portuguese\\r\\n\\r\\n\\r\\n*** start of this project gutenberg ebook cinco minutos ***\\r\\n\\r\\n\\r\\n\\r\\n\\r\\nproduced by rita farinha, alberto manuel brandão simões\\r\\nand the online distributed proofreading team at\\r\\nhttp://www.pgdp.net (this file was produced from images\\r\\ngenerously made available by brasiliana digital.)', '*nota de editor:* devido à existência de erros tipográficos neste\\r\\n    texto, foram tomadas várias decisões quanto à versão final.', 'em caso\\r\\n    de dúvida, a grafia foi mantida de acordo com o original.', 'no final\\r\\n    deste livro encontrará a lista de erros corrigidos.', 'rita farinha (dezembro 2013)\\r\\n\\r\\n\\r\\n\\r\\n\\r\\n[capa]\\r\\n\\r\\n\\r\\n\\r\\n\\r\\ncinco minutos\\r\\n\\r\\n\\r\\n\\r\\n\\r\\nj. de alencar\\r\\n\\r\\n\\r\\ncinco minutos\\r\\n\\r\\n\\r\\nedição especial\\r\\n\\r\\n\\r\\nrio de janeiro\\r\\ntyp.', \"mont'alverne--rua do ouvidor 82\\r\\n\\r\\n1894\\r\\n\\r\\n\\r\\n\\r\\n\\r\\na d***\\r\\n\\r\\n\\r\\n\\r\\n\\r\\ni\\r\\n\\r\\n\\r\\né uma historia curiosa a que lhe vou contar, minha prima.\", 'mas é uma\\r\\nhistoria, e não um romance.', 'ha mais de dous annos, seriam seis horas da tarde, dirigi-me ao rocio\\r\\npara tomar o omnibus de andarahy.', \"sabe que sou o homem o menos pontual que ha n'este mundo: entre os\\r\\nos meus immensos defeitos e as minhas poucas qualidades, não conto a\\r\\n_pontualidade_ essa virtude dos reis, e esse mão costume dos inglezes.\", 'enthusiasta da liberdade, não posso admittir de modo algum que o homem\\r\\nse escravise ao seu relogio e regule as suas acções pelo movimento de\\r\\numa pendula.', 'tudo isto quer dizer que, chegando ao rocio, não vi mais omnibus algum;\\r\\no empregado á quem dirigi-me respondeu:\\r\\n\\r\\n--partio ha cinco minutos.', 'resignei-me, e esperei pelo omnibus de sete horas.', 'anoiteceu.', 'fazia uma noite de inverno fresca e humida: o céo estava calmo, mas sem\\r\\nestrellas.', 'á hora marcada chegou o omnibus, e apressei-me á ir a tomar o meu lugar.', 'procurei, como costumo, o fundo do carro, afim de ficar livre das\\r\\nconversas monotonas dos recebedores, que de ordinario têm sempre uma\\r\\nanecdota insipida á contar, ou uma queixa á fazer sobre o máo estado\\r\\ndos caminhos.', 'o canto já estava occupado por um monte de sedas, que deixou escapar-se\\r\\num ligeiro farfalhar, conchegando-se para dar-me lugar.', 'sentei-me; prefiro sempre o contacto da seda á vizinhança da casimira\\r\\nou do panno.', \"o meu primeiro cuidado foi ver si conseguia descobrir o rosto e as\\r\\nfórmas que se escondiam n'essas nuvens de seda e de rendas.\", 'era impossivel.', 'além de estar escura a noite, um maldito véo cahido de um chapéozinho\\r\\nde palha não me deixava a menor esperança.', 'resignei-me, e assentei que o melhor era cuidar de outra cousa.', 'já o meu pensamento tinha-se lançado á galope pelo mundo da fantasia,\\r\\nquando de repente foi obrigado á voltar por uma circumstancia bem\\r\\nsimples.', 'senti no meu braço o contacto suave de um outro braço, que me parecia\\r\\nmacio e avelludado como uma folha de rosa.', 'quiz recuar, mas não tive animo; deixei-me ficar na mesma posição, e\\r\\nscismei que estava sentado perto de uma mulher que me amava e que se\\r\\napoiava sobre mim.', 'pouco e pouco fui cedendo áquella attracção irresistivel e\\r\\nreclinando-me insensivelmente: a pressão tornou-se mais forte; senti\\r\\no seu hombro tocar de leve o meu; e por acaso encontrei uma mãozinha\\r\\ndelicada e mimosa que deixou-se apertar á medo.', 'assim, fascinado ao mesmo tempo pela minha illusão e por este contacto\\r\\nvoluptuoso, esqueci-me, á ponto que, sem tino do que fazia, e,\\r\\nfavorecido pela obscuridão, passei-lhe a mão pela cintura e cerrei seu\\r\\ntalhe delicado.', '_ella_ soltou um grito, que foi tomado naturalmente como susto causado\\r\\npelos solavancos do omnibus, e refugiou-se no canto.', \"meio arrependido do que tinha feito, voltei-me como para olhar pela\\r\\nportinhola do carro, e, approximando-me d'ella, disse-lhe quasi ao\\r\\nouvido:\\r\\n\\r\\n--perdão!\"]\n"
     ]
    }
   ],
   "source": [
    "#colocando toda a string em minusculo\n",
    "livro_raw = livro_raw.lower()\n",
    "\n",
    "#tokenizando as frases\n",
    "sentences = nltk.sent_tokenize(livro_raw)\n",
    "print(sentences[:30])"
   ]
  },
  {
   "cell_type": "code",
   "execution_count": 4,
   "metadata": {},
   "outputs": [
    {
     "name": "stdout",
     "output_type": "stream",
     "text": [
      "[['the', 'project', 'gutenberg', 'ebook', 'of', 'cinco', 'minutos', ',', 'by', 'josé', 'martiniano', 'de', 'alencar', 'this', 'ebook', 'is', 'for', 'the', 'use', 'of', 'anyone', 'anywhere', 'at', 'no', 'cost', 'and', 'with', 'almost', 'no', 'restrictions', 'whatsoever', '.'], ['you', 'may', 'copy', 'it', ',', 'give', 'it', 'away', 'or', 're-use', 'it', 'under', 'the', 'terms', 'of', 'the', 'project', 'gutenberg', 'license', 'included', 'with', 'this', 'ebook', 'or', 'online', 'at', 'www.gutenberg.org', 'title', ':', 'cinco', 'minutos', 'author', ':', 'josé', 'martiniano', 'de', 'alencar', 'release', 'date', ':', 'december', '29', ',', '2013', '[', 'ebook', '#', '44540', ']', 'language', ':', 'portuguese', '***', 'start', 'of', 'this', 'project', 'gutenberg', 'ebook', 'cinco', 'minutos', '***', 'produced', 'by', 'rita', 'farinha', ',', 'alberto', 'manuel', 'brandão', 'simões', 'and', 'the', 'online', 'distributed', 'proofreading', 'team', 'at', 'http', ':', '//www.pgdp.net', '(', 'this', 'file', 'was', 'produced', 'from', 'images', 'generously', 'made', 'available', 'by', 'brasiliana', 'digital', '.', ')'], ['*nota', 'de', 'editor', ':', '*', 'devido', 'à', 'existência', 'de', 'erros', 'tipográficos', 'neste', 'texto', ',', 'foram', 'tomadas', 'várias', 'decisões', 'quanto', 'à', 'versão', 'final', '.'], ['em', 'caso', 'de', 'dúvida', ',', 'a', 'grafia', 'foi', 'mantida', 'de', 'acordo', 'com', 'o', 'original', '.'], ['no', 'final', 'deste', 'livro', 'encontrará', 'a', 'lista', 'de', 'erros', 'corrigidos', '.'], ['rita', 'farinha', '(', 'dezembro', '2013', ')', '[', 'capa', ']', 'cinco', 'minutos', 'j.', 'de', 'alencar', 'cinco', 'minutos', 'edição', 'especial', 'rio', 'de', 'janeiro', 'typ', '.'], [\"mont'alverne\", '--', 'rua', 'do', 'ouvidor', '82', '1894', 'a', 'd***', 'i', 'é', 'uma', 'historia', 'curiosa', 'a', 'que', 'lhe', 'vou', 'contar', ',', 'minha', 'prima', '.'], ['mas', 'é', 'uma', 'historia', ',', 'e', 'não', 'um', 'romance', '.'], ['ha', 'mais', 'de', 'dous', 'annos', ',', 'seriam', 'seis', 'horas', 'da', 'tarde', ',', 'dirigi-me', 'ao', 'rocio', 'para', 'tomar', 'o', 'omnibus', 'de', 'andarahy', '.'], ['sabe', 'que', 'sou', 'o', 'homem', 'o', 'menos', 'pontual', 'que', 'ha', \"n'este\", 'mundo', ':', 'entre', 'os', 'os', 'meus', 'immensos', 'defeitos', 'e', 'as', 'minhas', 'poucas', 'qualidades', ',', 'não', 'conto', 'a', '_pontualidade_', 'essa', 'virtude', 'dos', 'reis', ',', 'e', 'esse', 'mão', 'costume', 'dos', 'inglezes', '.'], ['enthusiasta', 'da', 'liberdade', ',', 'não', 'posso', 'admittir', 'de', 'modo', 'algum', 'que', 'o', 'homem', 'se', 'escravise', 'ao', 'seu', 'relogio', 'e', 'regule', 'as', 'suas', 'acções', 'pelo', 'movimento', 'de', 'uma', 'pendula', '.'], ['tudo', 'isto', 'quer', 'dizer', 'que', ',', 'chegando', 'ao', 'rocio', ',', 'não', 'vi', 'mais', 'omnibus', 'algum', ';', 'o', 'empregado', 'á', 'quem', 'dirigi-me', 'respondeu', ':', '--', 'partio', 'ha', 'cinco', 'minutos', '.'], ['resignei-me', ',', 'e', 'esperei', 'pelo', 'omnibus', 'de', 'sete', 'horas', '.'], ['anoiteceu', '.'], ['fazia', 'uma', 'noite', 'de', 'inverno', 'fresca', 'e', 'humida', ':', 'o', 'céo', 'estava', 'calmo', ',', 'mas', 'sem', 'estrellas', '.'], ['á', 'hora', 'marcada', 'chegou', 'o', 'omnibus', ',', 'e', 'apressei-me', 'á', 'ir', 'a', 'tomar', 'o', 'meu', 'lugar', '.'], ['procurei', ',', 'como', 'costumo', ',', 'o', 'fundo', 'do', 'carro', ',', 'afim', 'de', 'ficar', 'livre', 'das', 'conversas', 'monotonas', 'dos', 'recebedores', ',', 'que', 'de', 'ordinario', 'têm', 'sempre', 'uma', 'anecdota', 'insipida', 'á', 'contar', ',', 'ou', 'uma', 'queixa', 'á', 'fazer', 'sobre', 'o', 'máo', 'estado', 'dos', 'caminhos', '.'], ['o', 'canto', 'já', 'estava', 'occupado', 'por', 'um', 'monte', 'de', 'sedas', ',', 'que', 'deixou', 'escapar-se', 'um', 'ligeiro', 'farfalhar', ',', 'conchegando-se', 'para', 'dar-me', 'lugar', '.'], ['sentei-me', ';', 'prefiro', 'sempre', 'o', 'contacto', 'da', 'seda', 'á', 'vizinhança', 'da', 'casimira', 'ou', 'do', 'panno', '.'], ['o', 'meu', 'primeiro', 'cuidado', 'foi', 'ver', 'si', 'conseguia', 'descobrir', 'o', 'rosto', 'e', 'as', 'fórmas', 'que', 'se', 'escondiam', \"n'essas\", 'nuvens', 'de', 'seda', 'e', 'de', 'rendas', '.'], ['era', 'impossivel', '.'], ['além', 'de', 'estar', 'escura', 'a', 'noite', ',', 'um', 'maldito', 'véo', 'cahido', 'de', 'um', 'chapéozinho', 'de', 'palha', 'não', 'me', 'deixava', 'a', 'menor', 'esperança', '.'], ['resignei-me', ',', 'e', 'assentei', 'que', 'o', 'melhor', 'era', 'cuidar', 'de', 'outra', 'cousa', '.'], ['já', 'o', 'meu', 'pensamento', 'tinha-se', 'lançado', 'á', 'galope', 'pelo', 'mundo', 'da', 'fantasia', ',', 'quando', 'de', 'repente', 'foi', 'obrigado', 'á', 'voltar', 'por', 'uma', 'circumstancia', 'bem', 'simples', '.'], ['senti', 'no', 'meu', 'braço', 'o', 'contacto', 'suave', 'de', 'um', 'outro', 'braço', ',', 'que', 'me', 'parecia', 'macio', 'e', 'avelludado', 'como', 'uma', 'folha', 'de', 'rosa', '.'], ['quiz', 'recuar', ',', 'mas', 'não', 'tive', 'animo', ';', 'deixei-me', 'ficar', 'na', 'mesma', 'posição', ',', 'e', 'scismei', 'que', 'estava', 'sentado', 'perto', 'de', 'uma', 'mulher', 'que', 'me', 'amava', 'e', 'que', 'se', 'apoiava', 'sobre', 'mim', '.'], ['pouco', 'e', 'pouco', 'fui', 'cedendo', 'áquella', 'attracção', 'irresistivel', 'e', 'reclinando-me', 'insensivelmente', ':', 'a', 'pressão', 'tornou-se', 'mais', 'forte', ';', 'senti', 'o', 'seu', 'hombro', 'tocar', 'de', 'leve', 'o', 'meu', ';', 'e', 'por', 'acaso', 'encontrei', 'uma', 'mãozinha', 'delicada', 'e', 'mimosa', 'que', 'deixou-se', 'apertar', 'á', 'medo', '.'], ['assim', ',', 'fascinado', 'ao', 'mesmo', 'tempo', 'pela', 'minha', 'illusão', 'e', 'por', 'este', 'contacto', 'voluptuoso', ',', 'esqueci-me', ',', 'á', 'ponto', 'que', ',', 'sem', 'tino', 'do', 'que', 'fazia', ',', 'e', ',', 'favorecido', 'pela', 'obscuridão', ',', 'passei-lhe', 'a', 'mão', 'pela', 'cintura', 'e', 'cerrei', 'seu', 'talhe', 'delicado', '.'], ['_ella_', 'soltou', 'um', 'grito', ',', 'que', 'foi', 'tomado', 'naturalmente', 'como', 'susto', 'causado', 'pelos', 'solavancos', 'do', 'omnibus', ',', 'e', 'refugiou-se', 'no', 'canto', '.'], ['meio', 'arrependido', 'do', 'que', 'tinha', 'feito', ',', 'voltei-me', 'como', 'para', 'olhar', 'pela', 'portinhola', 'do', 'carro', ',', 'e', ',', 'approximando-me', \"d'ella\", ',', 'disse-lhe', 'quasi', 'ao', 'ouvido', ':', '--', 'perdão', '!']]\n"
     ]
    }
   ],
   "source": [
    "tokens_sentences = []\n",
    "#tokenizando as palavras de cada frase\n",
    "for i in sentences:\n",
    "    tokens_sentences.append(word_tokenize(i))\n",
    "    \n",
    "print(tokens_sentences[:30])"
   ]
  },
  {
   "cell_type": "code",
   "execution_count": 5,
   "metadata": {},
   "outputs": [
    {
     "name": "stdout",
     "output_type": "stream",
     "text": [
      "[['the', 'project', 'gutenberg', 'ebook', 'of', 'cinco', 'minutos', 'by', 'josé', 'martiniano', 'alencar', 'this', 'ebook', 'is', 'the', 'use', 'of', 'anyone', 'anywhere', 'at', 'cost', 'and', 'with', 'almost', 'restrictions', 'whatsoever'], ['you', 'may', 'copy', 'it', 'give', 'it', 'away', 'or', 'it', 'under', 'the', 'terms', 'of', 'the', 'project', 'gutenberg', 'license', 'included', 'with', 'this', 'ebook', 'or', 'online', 'at', 'title', 'cinco', 'minutos', 'author', 'josé', 'martiniano', 'alencar', 'release', 'date', 'december', 'ebook', 'language', 'portuguese', 'start', 'of', 'this', 'project', 'gutenberg', 'ebook', 'cinco', 'minutos', 'produced', 'by', 'rita', 'farinha', 'alberto', 'manuel', 'brandão', 'simões', 'and', 'the', 'online', 'distributed', 'proofreading', 'team', 'at', 'http', 'this', 'file', 'was', 'produced', 'from', 'images', 'generously', 'made', 'available', 'by', 'brasiliana', 'digital'], ['editor', 'devido', 'existência', 'erros', 'tipográficos', 'neste', 'texto', 'tomadas', 'várias', 'decisões', 'quanto', 'versão', 'final'], ['caso', 'dúvida', 'grafia', 'mantida', 'acordo', 'original'], ['final', 'deste', 'livro', 'encontrará', 'lista', 'erros', 'corrigidos'], ['rita', 'farinha', 'dezembro', 'capa', 'cinco', 'minutos', 'alencar', 'cinco', 'minutos', 'edição', 'especial', 'rio', 'janeiro', 'typ'], ['rua', 'ouvidor', 'i', 'historia', 'curiosa', 'vou', 'contar', 'prima'], ['historia', 'romance'], ['ha', 'dous', 'annos', 'seis', 'horas', 'tarde', 'rocio', 'tomar', 'omnibus', 'andarahy'], ['sabe', 'homem', 'menos', 'pontual', 'ha', 'mundo', 'immensos', 'defeitos', 'poucas', 'qualidades', 'conto', 'virtude', 'reis', 'mão', 'costume', 'inglezes'], ['enthusiasta', 'liberdade', 'posso', 'admittir', 'modo', 'algum', 'homem', 'escravise', 'relogio', 'regule', 'acções', 'movimento', 'pendula'], ['tudo', 'quer', 'dizer', 'chegando', 'rocio', 'vi', 'omnibus', 'algum', 'empregado', 'á', 'respondeu', 'partio', 'ha', 'cinco', 'minutos'], ['esperei', 'omnibus', 'sete', 'horas'], ['anoiteceu'], ['fazia', 'noite', 'inverno', 'fresca', 'humida', 'céo', 'calmo', 'estrellas'], ['á', 'hora', 'marcada', 'chegou', 'omnibus', 'á', 'ir', 'tomar', 'lugar'], ['procurei', 'costumo', 'fundo', 'carro', 'afim', 'ficar', 'livre', 'conversas', 'monotonas', 'recebedores', 'ordinario', 'têm', 'sempre', 'anecdota', 'insipida', 'á', 'contar', 'queixa', 'á', 'fazer', 'sobre', 'máo', 'estado', 'caminhos'], ['canto', 'occupado', 'monte', 'sedas', 'deixou', 'ligeiro', 'farfalhar', 'lugar'], ['prefiro', 'sempre', 'contacto', 'seda', 'á', 'vizinhança', 'casimira', 'panno'], ['primeiro', 'cuidado', 'ver', 'si', 'conseguia', 'descobrir', 'rosto', 'fórmas', 'escondiam', 'nuvens', 'seda', 'rendas'], ['impossivel'], ['além', 'estar', 'escura', 'noite', 'maldito', 'véo', 'cahido', 'chapéozinho', 'palha', 'deixava', 'menor', 'esperança'], ['assentei', 'melhor', 'cuidar', 'outra', 'cousa'], ['pensamento', 'lançado', 'á', 'galope', 'mundo', 'fantasia', 'repente', 'obrigado', 'á', 'voltar', 'circumstancia', 'bem', 'simples'], ['senti', 'braço', 'contacto', 'suave', 'outro', 'braço', 'parecia', 'macio', 'avelludado', 'folha', 'rosa'], ['quiz', 'recuar', 'animo', 'ficar', 'mesma', 'posição', 'scismei', 'sentado', 'perto', 'mulher', 'amava', 'apoiava', 'sobre', 'mim'], ['pouco', 'pouco', 'cedendo', 'áquella', 'attracção', 'irresistivel', 'insensivelmente', 'pressão', 'forte', 'senti', 'hombro', 'tocar', 'leve', 'acaso', 'encontrei', 'mãozinha', 'delicada', 'mimosa', 'apertar', 'á', 'medo'], ['assim', 'fascinado', 'tempo', 'illusão', 'contacto', 'voluptuoso', 'á', 'ponto', 'tino', 'fazia', 'favorecido', 'obscuridão', 'mão', 'cintura', 'cerrei', 'talhe', 'delicado'], ['soltou', 'grito', 'tomado', 'naturalmente', 'susto', 'causado', 'solavancos', 'omnibus', 'canto'], ['meio', 'arrependido', 'feito', 'olhar', 'portinhola', 'carro', 'quasi', 'ouvido', 'perdão']]\n"
     ]
    }
   ],
   "source": [
    "stopwords = nltk.corpus.stopwords.words('portuguese')\n",
    "\n",
    "#retirando as stopwords de cada frase\n",
    "tl2=[]\n",
    "for sentence in tokens_sentences:\n",
    "    tl2_sentence=[]\n",
    "    for word in sentence:\n",
    "        if word not in stopwords:\n",
    "            tl2_sentence.append(word)\n",
    "    tl2.append(tl2_sentence)\n",
    "\n",
    "#retirando a pontuação ; verificando se é alfanumérico\n",
    "book = []\n",
    "for t in tl2:\n",
    "    book.append([word for word in t if word.isalpha()])\n",
    "print(book[:30])"
   ]
  },
  {
   "cell_type": "code",
   "execution_count": 6,
   "metadata": {},
   "outputs": [
    {
     "name": "stdout",
     "output_type": "stream",
     "text": [
      "[['the', 'project', 'gutenberg', 'ebook', 'of', 'cinc', 'minut', 'by', 'josé', 'martini', 'alenc', 'thil', 'ebook', 'is', 'the', 'use', 'of', 'anyon', 'anywh', 'at', 'cost', 'and', 'with', 'almost', 'restrictiom', 'whatsoev'], ['you', 'may', 'copy', 'it', 'giv', 'it', 'away', 'or', 'it', 'und', 'the', 'term', 'of', 'the', 'project', 'gutenberg', 'licens', 'included', 'with', 'thil', 'ebook', 'or', 'onlin', 'at', 'titl', 'cinc', 'minut', 'auth', 'josé', 'martini', 'alenc', 'releas', 'dat', 'decemb', 'ebook', 'languag', 'portugues', 'start', 'of', 'thil', 'project', 'gutenberg', 'ebook', 'cinc', 'minut', 'produced', 'by', 'rit', 'far', 'albert', 'manuel', 'brand', 'sim', 'and', 'the', 'onlin', 'distributed', 'proofreading', 'te', 'at', 'http', 'thil', 'fil', 'wa', 'produced', 'from', 'imag', 'generously', 'mad', 'availabl', 'by', 'brasili', 'digit'], ['edit', 'dev', 'exist', 'err', 'tipográf', 'nest', 'text', 'tom', 'vár', 'decis', 'quant', 'vers', 'final'], ['cas', 'dúv', 'graf', 'mant', 'acord', 'orig'], ['final', 'dest', 'livr', 'encontr', 'list', 'err', 'corrig'], ['rit', 'far', 'dezembr', 'cap', 'cinc', 'minut', 'alenc', 'cinc', 'minut', 'ediç', 'espec', 'rio', 'jan', 'typ'], ['rua', 'ouvid', 'i', 'hist', 'curi', 'vou', 'cont', 'prim'], ['hist', 'romanc'], ['ha', 'dou', 'ann', 'seil', 'hor', 'tard', 'roci', 'tom', 'omnibu', 'andarahy'], ['sab', 'hom', 'menos', 'pontual', 'ha', 'mund', 'immens', 'defeit', 'pouc', 'qual', 'cont', 'virtud', 'reil', 'mão', 'costum', 'inglez'], ['enthusiast', 'liberdad', 'poss', 'admitt', 'mod', 'algum', 'hom', 'escravis', 'relogi', 'regul', 'acç', 'mov', 'pendul'], ['tud', 'qu', 'diz', 'cheg', 'roci', 'vi', 'omnibu', 'algum', 'empreg', 'á', 'respond', 'parti', 'ha', 'cinc', 'minut'], ['esp', 'omnibu', 'set', 'hor'], ['anoitec'], ['faz', 'noit', 'invern', 'fresc', 'hum', 'céo', 'calm', 'estrell'], ['á', 'hor', 'marc', 'cheg', 'omnibu', 'á', 'ir', 'tom', 'lug'], ['procur', 'costum', 'fund', 'carr', 'afim', 'fic', 'livr', 'convers', 'monot', 'receb', 'ordinari', 'têm', 'sempr', 'anecdot', 'insip', 'á', 'cont', 'queix', 'á', 'faz', 'sobr', 'máo', 'est', 'caminh'], ['cant', 'occup', 'mont', 'sed', 'deix', 'lig', 'farfalh', 'lug'], ['prefir', 'sempr', 'contact', 'sed', 'á', 'vizinhanç', 'casim', 'pann'], ['prim', 'cuid', 'ver', 'si', 'consegu', 'descobr', 'rost', 'fórm', 'escond', 'nuv', 'sed', 'rend'], ['impossi'], ['além', 'est', 'escur', 'noit', 'maldit', 'véo', 'cah', 'chapé', 'palh', 'deix', 'men', 'esperanç'], ['assent', 'melhor', 'cuid', 'outr', 'cous'], ['pens', 'lanç', 'á', 'galop', 'mund', 'fantas', 'repent', 'obrig', 'á', 'volt', 'circumstanc', 'bem', 'simpl'], ['sent', 'braç', 'contact', 'suav', 'outr', 'braç', 'parec', 'maci', 'avellud', 'folh', 'ros'], ['quiz', 'recu', 'anim', 'fic', 'mesm', 'pos', 'scism', 'sent', 'pert', 'mulh', 'am', 'apoi', 'sobr', 'mim'], ['pouc', 'pouc', 'ced', 'áquell', 'attracç', 'irresisti', 'insensi', 'press', 'fort', 'sent', 'hombr', 'toc', 'lev', 'acas', 'encontr', 'mão', 'delic', 'mim', 'apert', 'á', 'med'], ['assim', 'fascin', 'temp', 'illus', 'contact', 'volupt', 'á', 'pont', 'tin', 'faz', 'favorec', 'obscur', 'mão', 'cint', 'cerr', 'talh', 'delic'], ['solt', 'grit', 'tom', 'natur', 'sust', 'caus', 'solavanc', 'omnibu', 'cant'], ['mei', 'arrepend', 'feit', 'olh', 'portinhol', 'carr', 'quas', 'ouv', 'perd']]\n"
     ]
    }
   ],
   "source": [
    "livro = []\n",
    "stemmer = nltk.stem.RSLPStemmer()\n",
    "\n",
    "#aplicando o stremming para cada palavra de cada frase\n",
    "for sentence in book:\n",
    "    sentences_strem=[]\n",
    "    for word in sentence:\n",
    "        sentences_strem.append(stemmer.stem(word))\n",
    "    livro.append(sentences_strem)\n",
    "    \n",
    "print(livro[:30])"
   ]
  },
  {
   "cell_type": "code",
   "execution_count": 7,
   "metadata": {},
   "outputs": [
    {
     "name": "stdout",
     "output_type": "stream",
     "text": [
      "['the', 'project', 'gutenberg', 'ebook', 'of', 'cinc', 'minut', 'by', 'josé', 'alenc', 'thil', 'is', 'use', 'anyon', 'anywh', 'at', 'cost', 'and', 'with', 'almost', 'restrictiom', 'whatsoev', 'you', 'may', 'copy', 'it', 'giv', 'away', 'or', 'und', 'term', 'licens', 'included', 'onlin', 'auth', 'dat', 'start', 'produced', 'rit', 'far', 'brand', 'sim', 'distributed', 'te', 'http', 'fil', 'wa', 'from', 'imag', 'mad', 'availabl', 'dev', 'exist', 'err', 'nest', 'tom', 'quant', 'vers', 'final', 'cas', 'mant', 'orig', 'dest', 'livr', 'encontr', 'cap', 'ediç', 'espec', 'rio', 'jan', 'typ', 'rua', 'i', 'hist', 'vou', 'cont', 'prim', 'romanc', 'ha', 'dou', 'ann', 'seil', 'hor', 'tard', 'omnibu', 'sab', 'hom', 'menos', 'mund', 'immens', 'pouc', 'qual', 'virtud', 'reil', 'mão', 'costum', 'liberdad', 'poss', 'mod', 'algum', 'regul', 'mov', 'tud', 'qu', 'diz', 'cheg', 'vi', 'empreg', 'á', 'respond', 'esp', 'set', 'faz', 'noit', 'fresc', 'céo', 'calm', 'estrell', 'marc', 'ir', 'lug', 'procur', 'fund', 'carr', 'afim', 'fic', 'convers', 'receb', 'têm', 'sempr', 'sobr', 'máo', 'est', 'caminh', 'cant', 'occup', 'mont', 'sed', 'deix', 'lig', 'contact', 'cuid', 'ver', 'si', 'consegu', 'descobr', 'rost', 'fórm', 'escond', 'nuv', 'rend', 'impossi', 'além', 'escur', 'véo', 'cah', 'palh', 'men', 'esperanç', 'melhor', 'outr', 'cous', 'pens', 'lanç', 'repent', 'obrig', 'volt', 'circumstanc', 'bem', 'simpl', 'sent', 'braç', 'suav', 'parec', 'avellud', 'folh', 'quiz', 'anim', 'mesm', 'pert', 'mulh', 'am', 'mim', 'ced', 'fort', 'hombr', 'toc', 'lev', 'acas', 'delic', 'apert', 'med', 'assim', 'temp', 'illus', 'pont', 'cint', 'cerr', 'solt', 'grit', 'natur', 'caus', 'mei', 'feit', 'olh', 'quas', 'ouv', 'perd', 'aind', 'hero', 'desc', 'dit', 'palavr', 'rapid', 'ell', 'mand', 'par', 'vez', 'doc', 'sah', 'entend', 'long', 'abandon', 'idé', 'fei', 'velh', 'fiq', 'reflect', 'conhec', 'ama', 'pod', 'effeit', 'ser', 'send', 'ach', 'namor', 'dia', 'ás', 'verdad', 'espadu', 'imagin', 'capaz', 'mai', 'esforç', 'march', 'espirit', 'instant', 'cert', 'exam', 'principi', 'luz', 'rar', 'acces', 'porém', 'tão', 'envolv', 'traç', 'prov', 'admir', 'dentr', 'fez', 'sandal', 'ond', 'perfum', 'alm', 'cel', 'respeit', 'flôr', 'estud', 'camp', 'côr', 'sobretud', 'dad', 'desconhec', 'tod', 'segur', 'segred', 'lei', 'mysteri', 'cre', 'sei', 'explic', 'porqu', 'deo', 'deu', 'graç', 'bell', 'serv', 'irmã', 'ra', 'dá', 'lind', 'gost', 'distingu', 'perfeit', 'vê', 'revel', 'comprehend', 'poes', 'orient', 'sonh', 'brilh', 'fall', 'berç', 'sol', 'aliment', 'mel', 'viv', 'coll', 'puls', 'mort', 'vem', 'quebr', 'fio', 'existenc', 'feliz', 'guard', 'quer', 'emquant', 'ardent', 'profund', 'elev', 'dav', 'beij', 'desprez', 'fiz', 'retrat', 'senh', 'sombr', 'pass', 'di', 'vest', 'accord', 'murmur', 'ant', 'ti', 'direit', 'louc', 'nov', 'nad', 'ii', 'dur', 'extravaganc', 'indag', 'inform', 'paix', 'forç', 'alt', 'vint', 'via', 'caç', 'fim', 'continu', 'trist', 'hav', 'secul', 'bail', 'port', 'ped', 'aquell', 'sorris', 'fé', 'junt', 'voz', 'coraçã', 'corr', 'pesso', 'apen', 'cavalh', 'chei', 'express', 'moment', 'moral', 'cabell', 'branc', 'possi', 'fug', 'segund', 'reconhec', 'apez', 'dua', 'fac', 'duvid', 'lembranç', 'tal', 'exprim', 'reserv', 'dram', 'log', 'espant', 'poi', 'idad', 'praz', 'fest', 'mostr', 'filh', 'segu', 'desd', 'separ', 'mult', 'ia', 'alegr', 'envolt', 'larg', 'desapparec', 'atravess', 'emfim', 'unic', 'nom', 'mor', 'acab', 'mat', 'emoç', 'contr', 'amig', 'vist', 'muit', 'abat', 'lut', 'apparec', 'rest', 'siqu', 'phras', 'melancol', 'ent', 'oper', 'theatr', 'ter', 'repet', 'julg', 'sublim', 'verd', 'tamb', 'camarot', 'moç', 'nenhum', 'palpit', 'entr', 'revist', 'terc', 'ord', 'mãi', 'gui', 'frent', 'troc', 'prox', 'sub', 'tre', 'abr', 'pertenc', 'adivinh', 'fit', 'lad', 'pud', 'ult', 'act', 'arrast', 'silenci', 'rum', 'cabeç', 'inclin', 'entreg', 'music', 'part', 'baix', 'estremec', 'mez', 'agor', 'diss', 'fog', 'conserv', 'zomb', 'cruel', 'faç', 'papel', 'ridicul', 'real', 'sal', 'figur', 'vict', 'caprich', 'orgulh', 'interromp', 'agit', 'trem', 'injust', 'impacienc', 'termin', 'levant', 'lent', 'esquec', 'torn', 'nunc', 'soffr', 'lenç', 'lagr', 'gest', 'possu', 'sagr', 'sid', 'pergunt', 'deixár', 'dorm', 'cad', 'iii', 'seguint', 'cart', 'cerc', 'ei', 'mal', 'pód', 'nobr', 'occult', 'fuj', 'fatal', 'cust', 'sacrifici', 'egoist', 'felic', 'lettr', 'vesp', 'rel', 'delicad', 'clar', 'cham', 'sin', 'aceit', 'conselh', 'precis', 'decid', 'grand', 'remedi', 'viag', 'cavall', 'import', 'manhã', 'chuv', 'talv', 'hotel', 'fum', 'mud', 'montanh', 'orvalh', 'azul', 'rai', 'virgem', 'our', 'encost', 'roched', 'complet', 'succed', 'hosped', 'ingl', 'franc', 'bat', 'vid', 'jog', 'dec', 'cur', 'contempl', 'lua', 'derram', 'espaç', 'lament', 'orden', 'venc', 'frac', 'cuj', 'all', 'demor', 'cidad', 'sorpr', 'corag', 'consol', 'esper', 'som', 'hoj', 'petropolil', 'brev', 'acompanh', 'entretant', 'desej', 'estav', 'oit', 'bah', 'apreci', 'vast', 'mar', 'vap', 'rap', 'lembr', 'suspeit', 'merec', 'trabalh', 'famil', 'cri', 'vier', 'ajud', 'obt', 'lingu', 'vei', 'vej', 'aqu', 'vir', 'difficil', 'object', 'pequen', 'distanc', 'vult', 'janell', 'esclarec', 'relv', 'dar', 'goz', 'qua', 'soub', 'invent', 'um', 'tir', 'roç', 'prend', 'record', 'bast', 'fact', 'trech', 'turbilh', 'not', 'cruz', 'oh', 'desped', 'non', 'salt', 'grad', 'pedr', 'present', 'tem', 'irm', 'marid', 'pur', 'fals', 'perturb', 'grav', 'escut', 'crei', 'val', 'futur', 'mil', 'acontec', 'exalt', 'ambas', 'horizont', 'aza', 'vão', 'fôr', 'traz', 'mocidad', 'tumul', 'especi', 'cans', 'respir', 'front', 'peit', 'sob', 'impress', 'ergu', 'seren', 'desgr', 'ahi', 'affe', 'estranh', 'sant', 'sorr', 'depend', 'poe', 'ah', 'esboç', 'labi', 'reflex', 'negr', 'art', 'form', 'plant', 'tranquill', 'leit', 'caban', 'terr', 'agu', 'saud', 'fech', 'ning', 'caix', 'encerr', 'escript', 'li', 'escrev', 'pagin', 'começ', 'educ', 'der', 'menin', 'infanc', 'gir', 'const', 'enthusiasm', 'acolh', 'notic', 'dans', 'troux', 'alv', 'thesour', 'prepar', 'sembl', 'cor', 'lid', 'reun', 'transform', 'pall', 'brav', 'sóment', 'chor', 'scienc', 'salv', 'soluç', 'visit', 'boa', 'intelligenc', 'somn', 'corp', 'human', 'abert', 'ler', 'vii', 'morr', 'atac', 'ded', 'prostr', 'colh', 'prec', 'dedic', 'destin', 'tant', 'vent', 'cedr', 'lag', 'collegi', 'mãil', 'cab', 'except', 'dôr', 'occas', 'conced', 'companh', 'roub', 'pref', 'aproveit', 'glor', 'paquet', 'europ', 'viaj', 'grec', 'ade', 'quatr', 'solid', 'cim', 'ench', 'cal', 'carlot', 'devor', 'pé', 'ador', 'penetr', 'univers', 'ar', 'arv', 'creat', 'primi', 'retir', 'palm', 'sopr', 'bom', 'copi', 'barc', 'offerec', 'don', 'cort', 'preç', 'sujeit', 'apost', 'animal', 'ganh', 'necess', 'pacienc', 'calcul', 'propri', 'fraqu', 'particul', 'domin', 'cult', 'inspir', 'emb', 'cobr', 'veloz', 'desprend', 'rol', 'rebo', 'chã', 'linh', 'vo', 'prai', 'leal', 'conduz', 'fumaç', 'pesc', 'canô', 'pag', 'lá', 'dig', 'rem', 'com', 'vai', 'gent', 'vinh', 'defend', 'scen', 'memor', 'reminiscenc', 'pobr', 'ave', 'peix', 'fer', 'vag', 'prud', 'dez', 'arrebat', 'atir', 'obr', 'conceb', 'escrav', 'beb', 'honr', 'hospital', 'sabed', 'naçã', 'bot', 'invenci', 'perig', 'arranc', 'ficár', 'impet', 'raç', 'vontad', 'post', 'falt', 'ferr', 'recei', 'cord', 'immediat', 'invej', 'envi', 'banh', 'credit', 'indol', 'gem', 'seman', 'uni', 'serr', 'alcanç', 'vend', 'attribu', 'consent', 'lend', 'cl', 'cumpr', 'cess', 'liv', 'cast', 'novell', 'ger', 'fabric', 'ninh', 'suspens', 'respost', 'sociedad', 'nasc', 'poli', 'min', 'ensin', 'pág', 'end', 'should', 'be', 'associated', 'format', 'will', 'found', 'in', 'editiom', 'one', 'old', 'creating', 'work', 'public', 'domain', 'me', 'that', 'owm', 'united', 'stat', 'copyright', 'thes', 'so', 'foundation', 'can', 'distribut', 'without', 'permission', 'paying', 'royalti', 'rul', 'forth', 'gener', 'to', 'copying', 'distributing', 'electronic', 'protect', 'concept', 'trademark', 'registered', 'used', 'if', 'charg', 'unles', 'receiv', 'anything', 'complying', 'nearly', 'any', 'purpos', 'such', 'derivativ', 'research', 'they', 'printed', 'redistribution', 'full', 'pleas', 'read', 'befor', 'mission', 'promoting', 'fre', 'distribution', 'using', 'oth', 'way', 'agre', 'comply', 'section', 'redistributing', 'intellect', 'property', 'agreement', 'must', 'return', 'destroy', 'your', 'paid', 'fee', 'obtaining', 'bound', 'obtain', 'refund', 'person', 'entity', 'paragraph', 'only', 'on', 'an', 'peopl', 'who', 'ther', 'are', 'thing', 'most', 'even', 'see', 'below', 'help', 'literary', 'archiv', 'collection', 'individ', 'located', 'we', 'right', 'performing', 'displaying', 'based', 'referenc', 'removed', 'support', 'freely', 'complianc', 'keeping', 'law', 'wher', 'als', 'govern', 'outsid', 'check', 'country', 'mak', 'concerning', 'statu', 'following', 'sentenc', 'activ', 'link', 'appe', 'prominently', 'which', 'copied', 'doe', 'contain', 'posted', 'hold', 'providing', 'requirement', 'through', 'both', 'addit', 'marked', 'up', 'including', 'provid', 'than', 'plain', 'vanill', 'asci', 'offic', 'web', 'sit', 'expens', 'us', 'upon', 'request', 'includ', 'specified', 'provided', 'pay', 'royalty', 'profit', 'method', 'applicabl', 'tax', 'own', 'but', 'he', 'donat', 'payment', 'within', 'day', 'information', 'about', 'donatiom', 'money', 'writing', 'receipt', 'physic', 'medium', 'accordanc', 'replacement', 'defect', 'michael', 'hart', 'volunte', 'employe', 'considerabl', 'effort', 'limited', 'defectiv', 'comput', 'damag', 'equipment', 'warranty', 'disclaim', 'liability', 'legal', 'breach', 'contract', 'distribu', 'written', 'explanation', 'received', 'lieu', 'electronically', 'second', 'demand', 'warranti', 'implied', 'certain', 'limitation', 'shall', 'permitted', 'c', 'readabl', 'widest', 'new', 'generatiom', 'created', 'how', 'exempt', 'feder', 'numb', 'contributiom', 'princip', 'numer', 'locatiom', 'busines', 'email', 'direc', 'many', 'small', 'keep', 'solicit', 'determin', 'met', 'accepted', 'profes', 'sever', 'search', 'collecç', 'titul', 'geral', 'todav', 'publ', 'litter', 'escrip', 'pormen', 'dess', 'illustr', 'brazil', 'litterat', 'exerc', 'propr', 'pres', 'garni', 'jorn', 'crianç', 'sert', 'nort', 'ce', 'imprens', 'capitul', 'ref', 'januari', 'vener', 'daquell', 'recolh', 'divers', 'colleg', 'assist', 'manej', 'busc', 'assom', 'ness', 'de', 'habit', 'alumn', 'emul', 'modest', 'trav', 'conquist', 'aprend', 'volv', 'escap', 'punh', 'paul', 'fl', 'afinal', 'sustent', 'senã', 'fortun', 'naquell', 'premi', 'comm', 'constanc', 'pov', 'just', 'percorr', 'abal', 'episodi', 'golp', 'sabi', 'var', 'francisc', 'padr', 'carg', 'mãe', 'volum', 'cond', 'revoluç', 'observ', 'sen', 'conform', 'assumpt', 'experienc', 'dell', 'ira', 'palestr', 'ceremon', 'centr', 'heró', 'parent', 'abundanc', 'geni', 'mold', 'litterari', 'brot', 'sement', 'doi', 'produz', 'semelh', 'vó', 'bent', 'trat', 'descrev', 'dign', 'iam', 'fragment', 'nell', 'narr', 'campin', 'por', 'academ', 'orn', 'gentil', 'jov', 'idol', 'adolesc', 'joven', 'octavi', 'pai', 'escolh', 'poet', 'balzac', 'edicç', 'typograph', 'traduz', 'period', 'qualqu', 'conclu', 'luct', 'signific', 'tec', 'imit', 'romp', 'banquet', 'colon', 'cit', 'carec', 'pint', 'raiz', 'manifest', 'consider', 'soment', 'varze', 'guerr', 'ocean', 'indi', 'tent', 'ass', 'coop', 'combat', 'edic', 'agrad', 'chef', 'ameaç', 'folhetim', 'exempl', 'compr', 'veiu', 'past', 'brasil', 'americ', 'etc', 'patr', 'amer', 'analog', 'crit', 'ram', 'castig', 'gross', 'arc', 'arm', 'estr', 'saudad', 'refer', 'acredit', 'autor', 'ubiraj', 'bel', 'aillaud', 'compost', 'marj', 'jaguar', 'flech', 've', 'inimig', 'robust', 'ruj', 'jagu', 'florest', 'feroz', 'foj', 'espavor', 'lonj', 'terri', 'manceb', 'fam', 'aclam', 'preciz', 'façanh', 'tab', 'prezenç', 'jand', 'virj', 'formoz', 'espoz', 'através', 'empunh', 'jámal', 'estac', 'céu', 'dezafi', 'arremess', 'vibr', 'tronc', 'frondoz', 'repouz', 'corç', 'pen', 'tucan', 'valent', 'tocantim', 'piz', 'vermelh', 'cinj', 'pern', 'estranj', 'coc', 'pajé', 'aragua', 'vind', 'pal', 'és', 'prizion', 'rast', 'apag', 'após', 'tap', 'dezert', 'vôa', 'gav', 'cól', 'arací', 'estrel', 'itaqu', 'cem', 'cativ', 'dezaparec', 'lij', 'plum', 'tacap', 'oferec', 'dispar', 'mensaj', 'campeã', 'camacan', 'sang', 'pojucan', 'barbar', 'tapu', 'fom', 'cons', 'tupan', 'rezist', 'garr', 'estend', 'ambos', 'imovel', 'nac', 'galh', 'viu', 'prez', 'abraç', 'adversari', 'igual', 'obedec', 'finc', 'hast', 'pôd', 'vit', 'serp', 'oca', 'crav', 'triunf', 'aument', 'sofr', 'vitor', 'suplici', 'afront', 'vinganç', 'oc', 'anc', 'paz', 'ouz', 'dirij', 'coloc', 'admit', 'ali', 'disput', 'noiv', 'celebr', 'escr', 'inub', 'vôo', 'aí', 'tribu', 'poderoz', 'pelej', 'possant', 'crec', 'verg', 'sa', 'sinal', 'dezej', 'fal', 'coraj', 'fecund', 'fortal', 'destr', 'pocem', 'escud', 'avanç', 'tranç', 'jaçanan', 'arvor', 'aprezent', 'ano', 'ento', 'generoz', 'cauim', 'aparec', 'majé', 'rêd', 'saboroz', 'algod', 'caz', 'imaj', 'son', 'saiu', 'abelh', 'emudec', 'cabel', 'boc', 'batalh', 'recuz', 'glorioz', 'enc', 'neg', 'ilustr', 'cobert', 'sorriz', 'juss', 'abaré', 'acrecent', 'auzenc', 'carbet', 'dond', 'formida', 'piraj', 'jacamim', 'moac', 'sum', 'frut', 'carn', 'prudenc', 'uz', 'guaribú', 'jurand', 'marandub', 'prol', 'tupinamb', 'decend', 'col', 'coiz', 'virjindad', 'fér', 'rival', 'queim', 'côc', 'nupc', 'uirassú', 'corí', 'tór', 'dent', 'camucim', 'saúv', 'agud', 'declar', 'morubixab', 'simbol', 'medit', 'ácerc', 'murinh', 'canicran', 'dir', 'paan', 'corumim', 'agnin', 'trad', 'indijen', 'selvaj', 'canib', 'cron', 'fat', 'civil', 'barlo', 'caval', 'escri', 'carat', 'paj', 'tupí', 'daí', 'dezign', 'orij', 'signif', 'feroc', 'dezinenc', 'liter', 'ocaz', 'frequ', 'southey', 'gabriel', 'contrari', 'engord', 'mui', 'reprezent', 'ive', 'indic', 'uzo', 'conjug', 'relij', 'fraz', 'et', 'exajer', 'lery', 'poligam', 'divindad', 'qui', 'il', 'leur', 'tout', 'le', 'ne', 'en', 'la', 'un', 'vol', 'je', 'br']\n"
     ]
    }
   ],
   "source": [
    "from gensim.models import Word2Vec\n",
    "\n",
    "# sem nenhum outro parametro\n",
    "model = Word2Vec(livro)\n",
    "\n",
    "vocabulary = list(model.wv.vocab)\n",
    "print(vocabulary)"
   ]
  },
  {
   "cell_type": "code",
   "execution_count": 8,
   "metadata": {},
   "outputs": [
    {
     "name": "stdout",
     "output_type": "stream",
     "text": [
      "[('tão', 0.9992439150810242), ('fic', 0.9992358088493347), ('dev', 0.999232292175293), ('vid', 0.9992265701293945), ('ent', 0.99921715259552), ('aind', 0.9992115497589111), ('deix', 0.9992028474807739), ('mort', 0.9992005825042725), ('torn', 0.9991992712020874), ('poi', 0.9991949796676636)]\n"
     ]
    }
   ],
   "source": [
    "similar_words = model.wv.most_similar(\"crianç\")\n",
    "print(similar_words)"
   ]
  }
 ],
 "metadata": {
  "kernelspec": {
   "display_name": "Python 3",
   "language": "python",
   "name": "python3"
  },
  "language_info": {
   "codemirror_mode": {
    "name": "ipython",
    "version": 3
   },
   "file_extension": ".py",
   "mimetype": "text/x-python",
   "name": "python",
   "nbconvert_exporter": "python",
   "pygments_lexer": "ipython3",
   "version": "3.6.8"
  }
 },
 "nbformat": 4,
 "nbformat_minor": 2
}

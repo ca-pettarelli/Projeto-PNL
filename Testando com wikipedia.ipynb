{
 "cells": [
  {
   "cell_type": "code",
   "execution_count": null,
   "metadata": {},
   "outputs": [],
   "source": [
    "import nltk\n",
    "from urllib import request\n",
    "\n",
    "#armazenando na lista as urls dos textos\n",
    "urls = [\"https://dumps.wikimedia.org/ptwiki/latest/ptwiki-latest-pages-articles.xml.bz2\"]\n",
    "\n",
    "livro_raw =\"\"\n",
    "\n",
    "#colocando todos os texto em uma string\n",
    "for url in urls:\n",
    "    livro = request.urlopen(url)\n",
    "    livro_raw += livro.read().decode('utf-8-sig') \n",
    "    \n",
    "print(len(livro_raw))\n",
    "print(type(livro_raw))"
   ]
  },
  {
   "cell_type": "code",
   "execution_count": null,
   "metadata": {},
   "outputs": [],
   "source": [
    "print(livro_raw[:30])"
   ]
  }
 ],
 "metadata": {
  "kernelspec": {
   "display_name": "Python 3",
   "language": "python",
   "name": "python3"
  },
  "language_info": {
   "codemirror_mode": {
    "name": "ipython",
    "version": 3
   },
   "file_extension": ".py",
   "mimetype": "text/x-python",
   "name": "python",
   "nbconvert_exporter": "python",
   "pygments_lexer": "ipython3",
   "version": "3.6.8"
  }
 },
 "nbformat": 4,
 "nbformat_minor": 2
}

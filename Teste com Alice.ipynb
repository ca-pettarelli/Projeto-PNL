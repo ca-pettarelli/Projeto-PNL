{
 "cells": [
  {
   "cell_type": "code",
   "execution_count": 1,
   "metadata": {},
   "outputs": [],
   "source": [
    "from nltk.stem import RSLPStemmer"
   ]
  },
  {
   "cell_type": "code",
   "execution_count": 2,
   "metadata": {},
   "outputs": [],
   "source": [
    "def Tokenize(sentence):\n",
    "    sentence = sentence.lower()\n",
    "    sentence = nltk.word_tokenize(sentence)\n",
    "    return sentence"
   ]
  },
  {
   "cell_type": "code",
   "execution_count": 3,
   "metadata": {},
   "outputs": [],
   "source": [
    "def Stemming(sentence):\n",
    "    stemmer = RSLPStemmer()\n",
    "    phrase = []\n",
    "    for word in sentence:\n",
    "        phrase.append(stemmer.stem(word.lower()))\n",
    "    return phrase"
   ]
  },
  {
   "cell_type": "code",
   "execution_count": 4,
   "metadata": {},
   "outputs": [],
   "source": [
    "def RemoveStopWords(sentence):\n",
    "    stopwords = nltk.corpus.stopwords.words('portuguese')\n",
    "    phrase = []\n",
    "    for word in sentence:\n",
    "        if word not in stopwords:\n",
    "            phrase.append(word)\n",
    "    return phrase"
   ]
  },
  {
   "cell_type": "code",
   "execution_count": 5,
   "metadata": {},
   "outputs": [
    {
     "name": "stdout",
     "output_type": "stream",
     "text": [
      "167552\n"
     ]
    }
   ],
   "source": [
    "from urllib import request\n",
    "url = \"http://www.gutenberg.org/files/11/11-0.txt\" \n",
    "livro = request.urlopen(url)\n",
    "livro_raw = livro.read().decode('utf-8-sig') \n",
    "print(len(livro_raw))"
   ]
  },
  {
   "cell_type": "code",
   "execution_count": 6,
   "metadata": {},
   "outputs": [
    {
     "name": "stdout",
     "output_type": "stream",
     "text": [
      " Gutenberg License included\r\n",
      "with this eBook or online at www.gutenberg.org\r\n",
      "\r\n",
      "\r\n",
      "Title: Alice’s Adventures in Wonderland\r\n",
      "\r\n",
      "Author\n",
      "<class 'str'>\n"
     ]
    }
   ],
   "source": [
    "print(livro_raw[250:380])\n",
    "print(type(livro_raw))"
   ]
  },
  {
   "cell_type": "code",
   "execution_count": 30,
   "metadata": {},
   "outputs": [
    {
     "name": "stdout",
     "output_type": "stream",
     "text": [
      "project gutenberg’s alice’s ad\n",
      "['project gutenberg’s alice’s adventures in wonderland, by lewis carroll\\r\\n\\r\\nthis ebook is for the use of anyone anywhere at no cost and with\\r\\nalmost no restrictions whatsoever.', 'you may copy it, give it away or\\r\\nre-use it under the terms of the project gutenberg license included\\r\\nwith this ebook or online at www.gutenberg.org\\r\\n\\r\\n\\r\\ntitle: alice’s adventures in wonderland\\r\\n\\r\\nauthor: lewis carroll\\r\\n\\r\\nposting date: june 25, 2008 [ebook #11]\\r\\nrelease date: march, 1994\\r\\nlast updated: october 6, 2016\\r\\n\\r\\nlanguage: english\\r\\n\\r\\ncharacter set encoding: utf-8\\r\\n\\r\\n*** start of this project gutenberg ebook alice’s adventures in wonderland ***\\r\\n\\r\\n\\r\\n\\r\\n\\r\\n\\r\\n\\r\\n\\r\\n\\r\\n\\r\\n\\r\\nalice’s adventures in wonderland\\r\\n\\r\\nlewis carroll\\r\\n\\r\\nthe millennium fulcrum edition 3.0\\r\\n\\r\\n\\r\\n\\r\\n\\r\\nchapter i. down the rabbit-hole\\r\\n\\r\\nalice was beginning to get very tired of sitting by her sister on the\\r\\nbank, and of having nothing to do: once or twice she had peeped into the\\r\\nbook her sister was reading, but it had no pictures or conversations in\\r\\nit, ‘and what is the use of a book,’ thought alice ‘without pictures or\\r\\nconversations?’\\r\\n\\r\\nso she was considering in her own mind (as well as she could, for the\\r\\nhot day made her feel very sleepy and stupid), whether the pleasure\\r\\nof making a daisy-chain would be worth the trouble of getting up and\\r\\npicking the daisies, when suddenly a white rabbit with pink eyes ran\\r\\nclose by her.', 'there was nothing so very remarkable in that; nor did alice think it so\\r\\nvery much out of the way to hear the rabbit say to itself, ‘oh dear!', 'oh dear!', 'i shall be late!’ (when she thought it over afterwards, it\\r\\noccurred to her that she ought to have wondered at this, but at the time\\r\\nit all seemed quite natural); but when the rabbit actually took a watch\\r\\nout of its waistcoat-pocket, and looked at it, and then hurried on,\\r\\nalice started to her feet, for it flashed across her mind that she had\\r\\nnever before seen a rabbit with either a waistcoat-pocket, or a watch\\r\\nto take out of it, and burning with curiosity, she ran across the field\\r\\nafter it, and fortunately was just in time to see it pop down a large\\r\\nrabbit-hole under the hedge.', 'in another moment down went alice after it, never once considering how\\r\\nin the world she was to get out again.', 'the rabbit-hole went straight on like a tunnel for some way, and then\\r\\ndipped suddenly down, so suddenly that alice had not a moment to think\\r\\nabout stopping herself before she found herself falling down a very deep\\r\\nwell.', 'either the well was very deep, or she fell very slowly, for she had\\r\\nplenty of time as she went down to look about her and to wonder what was\\r\\ngoing to happen next.', 'first, she tried to look down and make out what\\r\\nshe was coming to, but it was too dark to see anything; then she\\r\\nlooked at the sides of the well, and noticed that they were filled with\\r\\ncupboards and book-shelves; here and there she saw maps and pictures\\r\\nhung upon pegs.', 'she took down a jar from one of the shelves as\\r\\nshe passed; it was labelled ‘orange marmalade’, but to her great\\r\\ndisappointment it was empty: she did not like to drop the jar for fear\\r\\nof killing somebody, so managed to put it into one of the cupboards as\\r\\nshe fell past it.', '‘well!’ thought alice to herself, ‘after such a fall as this, i shall\\r\\nthink nothing of tumbling down stairs!', 'how brave they’ll all think me at\\r\\nhome!', 'why, i wouldn’t say anything about it, even if i fell off the top\\r\\nof the house!’ (which was very likely true.)', 'down, down, down.', 'would the fall never come to an end!', '‘i wonder how\\r\\nmany miles i’ve fallen by this time?’ she said aloud.', '‘i must be getting\\r\\nsomewhere near the centre of the earth.', 'let me see: that would be four\\r\\nthousand miles down, i think--’ (for, you see, alice had learnt several\\r\\nthings of this sort in her lessons in the schoolroom, and though this\\r\\nwas not a very good opportunity for showing off her knowledge, as there\\r\\nwas no one to listen to her, still it was good practice to say it over)\\r\\n‘--yes, that’s about the right distance--but then i wonder what latitude\\r\\nor longitude i’ve got to?’ (alice had no idea what latitude was, or\\r\\nlongitude either, but thought they were nice grand words to say.)', 'presently she began again.', '‘i wonder if i shall fall right through the\\r\\nearth!', 'how funny it’ll seem to come out among the people that walk with\\r\\ntheir heads downward!', 'the antipathies, i think--’ (she was rather glad\\r\\nthere was no one listening, this time, as it didn’t sound at all the\\r\\nright word) ‘--but i shall have to ask them what the name of the country\\r\\nis, you know.', 'please, ma’am, is this new zealand or australia?’ (and\\r\\nshe tried to curtsey as she spoke--fancy curtseying as you’re falling\\r\\nthrough the air!', 'do you think you could manage it?)', '‘and what an\\r\\nignorant little girl she’ll think me for asking!', 'no, it’ll never do to\\r\\nask: perhaps i shall see it written up somewhere.’\\r\\n\\r\\ndown, down, down.', 'there was nothing else to do, so alice soon began\\r\\ntalking again.', '‘dinah’ll miss me very much to-night, i should think!’\\r\\n(dinah was the cat.)', '‘i hope they’ll remember her saucer of milk at\\r\\ntea-time.', 'dinah my dear!']\n"
     ]
    }
   ],
   "source": [
    "import nltk\n",
    "from nltk import word_tokenize\n",
    "stopwords = nltk.corpus.stopwords.words('portuguese')\n",
    "# sentences = nltk.sent_tokenize(livro_raw)\n",
    "\n",
    "\n",
    "print(livro_raw[:30])\n",
    "livro_raw = livro_raw.lower()\n",
    "sentences = nltk.sent_tokenize(livro_raw)\n",
    "\n",
    "# teste = []\n",
    "# for i in sentences:\n",
    "#     teste.append(i)\n",
    "# print(teste[:30])\n",
    "print(sentences[:30])\n",
    "\n",
    "\n"
   ]
  },
  {
   "cell_type": "code",
   "execution_count": 32,
   "metadata": {},
   "outputs": [
    {
     "name": "stdout",
     "output_type": "stream",
     "text": [
      "[['project', 'gutenberg', '’', 's', 'alice', '’', 's', 'adventures', 'in', 'wonderland', ',', 'by', 'lewis', 'carroll', 'this', 'ebook', 'is', 'for', 'the', 'use', 'of', 'anyone', 'anywhere', 'at', 'no', 'cost', 'and', 'with', 'almost', 'no', 'restrictions', 'whatsoever', '.'], ['you', 'may', 'copy', 'it', ',', 'give', 'it', 'away', 'or', 're-use', 'it', 'under', 'the', 'terms', 'of', 'the', 'project', 'gutenberg', 'license', 'included', 'with', 'this', 'ebook', 'or', 'online', 'at', 'www.gutenberg.org', 'title', ':', 'alice', '’', 's', 'adventures', 'in', 'wonderland', 'author', ':', 'lewis', 'carroll', 'posting', 'date', ':', 'june', '25', ',', '2008', '[', 'ebook', '#', '11', ']', 'release', 'date', ':', 'march', ',', '1994', 'last', 'updated', ':', 'october', '6', ',', '2016', 'language', ':', 'english', 'character', 'set', 'encoding', ':', 'utf-8', '***', 'start', 'of', 'this', 'project', 'gutenberg', 'ebook', 'alice', '’', 's', 'adventures', 'in', 'wonderland', '***', 'alice', '’', 's', 'adventures', 'in', 'wonderland', 'lewis', 'carroll', 'the', 'millennium', 'fulcrum', 'edition', '3.0', 'chapter', 'i.', 'down', 'the', 'rabbit-hole', 'alice', 'was', 'beginning', 'to', 'get', 'very', 'tired', 'of', 'sitting', 'by', 'her', 'sister', 'on', 'the', 'bank', ',', 'and', 'of', 'having', 'nothing', 'to', 'do', ':', 'once', 'or', 'twice', 'she', 'had', 'peeped', 'into', 'the', 'book', 'her', 'sister', 'was', 'reading', ',', 'but', 'it', 'had', 'no', 'pictures', 'or', 'conversations', 'in', 'it', ',', '‘', 'and', 'what', 'is', 'the', 'use', 'of', 'a', 'book', ',', '’', 'thought', 'alice', '‘', 'without', 'pictures', 'or', 'conversations', '?', '’', 'so', 'she', 'was', 'considering', 'in', 'her', 'own', 'mind', '(', 'as', 'well', 'as', 'she', 'could', ',', 'for', 'the', 'hot', 'day', 'made', 'her', 'feel', 'very', 'sleepy', 'and', 'stupid', ')', ',', 'whether', 'the', 'pleasure', 'of', 'making', 'a', 'daisy-chain', 'would', 'be', 'worth', 'the', 'trouble', 'of', 'getting', 'up', 'and', 'picking', 'the', 'daisies', ',', 'when', 'suddenly', 'a', 'white', 'rabbit', 'with', 'pink', 'eyes', 'ran', 'close', 'by', 'her', '.'], ['there', 'was', 'nothing', 'so', 'very', 'remarkable', 'in', 'that', ';', 'nor', 'did', 'alice', 'think', 'it', 'so', 'very', 'much', 'out', 'of', 'the', 'way', 'to', 'hear', 'the', 'rabbit', 'say', 'to', 'itself', ',', '‘', 'oh', 'dear', '!'], ['oh', 'dear', '!'], ['i', 'shall', 'be', 'late', '!', '’', '(', 'when', 'she', 'thought', 'it', 'over', 'afterwards', ',', 'it', 'occurred', 'to', 'her', 'that', 'she', 'ought', 'to', 'have', 'wondered', 'at', 'this', ',', 'but', 'at', 'the', 'time', 'it', 'all', 'seemed', 'quite', 'natural', ')', ';', 'but', 'when', 'the', 'rabbit', 'actually', 'took', 'a', 'watch', 'out', 'of', 'its', 'waistcoat-pocket', ',', 'and', 'looked', 'at', 'it', ',', 'and', 'then', 'hurried', 'on', ',', 'alice', 'started', 'to', 'her', 'feet', ',', 'for', 'it', 'flashed', 'across', 'her', 'mind', 'that', 'she', 'had', 'never', 'before', 'seen', 'a', 'rabbit', 'with', 'either', 'a', 'waistcoat-pocket', ',', 'or', 'a', 'watch', 'to', 'take', 'out', 'of', 'it', ',', 'and', 'burning', 'with', 'curiosity', ',', 'she', 'ran', 'across', 'the', 'field', 'after', 'it', ',', 'and', 'fortunately', 'was', 'just', 'in', 'time', 'to', 'see', 'it', 'pop', 'down', 'a', 'large', 'rabbit-hole', 'under', 'the', 'hedge', '.'], ['in', 'another', 'moment', 'down', 'went', 'alice', 'after', 'it', ',', 'never', 'once', 'considering', 'how', 'in', 'the', 'world', 'she', 'was', 'to', 'get', 'out', 'again', '.'], ['the', 'rabbit-hole', 'went', 'straight', 'on', 'like', 'a', 'tunnel', 'for', 'some', 'way', ',', 'and', 'then', 'dipped', 'suddenly', 'down', ',', 'so', 'suddenly', 'that', 'alice', 'had', 'not', 'a', 'moment', 'to', 'think', 'about', 'stopping', 'herself', 'before', 'she', 'found', 'herself', 'falling', 'down', 'a', 'very', 'deep', 'well', '.'], ['either', 'the', 'well', 'was', 'very', 'deep', ',', 'or', 'she', 'fell', 'very', 'slowly', ',', 'for', 'she', 'had', 'plenty', 'of', 'time', 'as', 'she', 'went', 'down', 'to', 'look', 'about', 'her', 'and', 'to', 'wonder', 'what', 'was', 'going', 'to', 'happen', 'next', '.'], ['first', ',', 'she', 'tried', 'to', 'look', 'down', 'and', 'make', 'out', 'what', 'she', 'was', 'coming', 'to', ',', 'but', 'it', 'was', 'too', 'dark', 'to', 'see', 'anything', ';', 'then', 'she', 'looked', 'at', 'the', 'sides', 'of', 'the', 'well', ',', 'and', 'noticed', 'that', 'they', 'were', 'filled', 'with', 'cupboards', 'and', 'book-shelves', ';', 'here', 'and', 'there', 'she', 'saw', 'maps', 'and', 'pictures', 'hung', 'upon', 'pegs', '.'], ['she', 'took', 'down', 'a', 'jar', 'from', 'one', 'of', 'the', 'shelves', 'as', 'she', 'passed', ';', 'it', 'was', 'labelled', '‘', 'orange', 'marmalade', '’', ',', 'but', 'to', 'her', 'great', 'disappointment', 'it', 'was', 'empty', ':', 'she', 'did', 'not', 'like', 'to', 'drop', 'the', 'jar', 'for', 'fear', 'of', 'killing', 'somebody', ',', 'so', 'managed', 'to', 'put', 'it', 'into', 'one', 'of', 'the', 'cupboards', 'as', 'she', 'fell', 'past', 'it', '.'], ['‘', 'well', '!', '’', 'thought', 'alice', 'to', 'herself', ',', '‘', 'after', 'such', 'a', 'fall', 'as', 'this', ',', 'i', 'shall', 'think', 'nothing', 'of', 'tumbling', 'down', 'stairs', '!'], ['how', 'brave', 'they', '’', 'll', 'all', 'think', 'me', 'at', 'home', '!'], ['why', ',', 'i', 'wouldn', '’', 't', 'say', 'anything', 'about', 'it', ',', 'even', 'if', 'i', 'fell', 'off', 'the', 'top', 'of', 'the', 'house', '!', '’', '(', 'which', 'was', 'very', 'likely', 'true', '.', ')'], ['down', ',', 'down', ',', 'down', '.'], ['would', 'the', 'fall', 'never', 'come', 'to', 'an', 'end', '!'], ['‘', 'i', 'wonder', 'how', 'many', 'miles', 'i', '’', 've', 'fallen', 'by', 'this', 'time', '?', '’', 'she', 'said', 'aloud', '.'], ['‘', 'i', 'must', 'be', 'getting', 'somewhere', 'near', 'the', 'centre', 'of', 'the', 'earth', '.'], ['let', 'me', 'see', ':', 'that', 'would', 'be', 'four', 'thousand', 'miles', 'down', ',', 'i', 'think', '--', '’', '(', 'for', ',', 'you', 'see', ',', 'alice', 'had', 'learnt', 'several', 'things', 'of', 'this', 'sort', 'in', 'her', 'lessons', 'in', 'the', 'schoolroom', ',', 'and', 'though', 'this', 'was', 'not', 'a', 'very', 'good', 'opportunity', 'for', 'showing', 'off', 'her', 'knowledge', ',', 'as', 'there', 'was', 'no', 'one', 'to', 'listen', 'to', 'her', ',', 'still', 'it', 'was', 'good', 'practice', 'to', 'say', 'it', 'over', ')', '‘', '--', 'yes', ',', 'that', '’', 's', 'about', 'the', 'right', 'distance', '--', 'but', 'then', 'i', 'wonder', 'what', 'latitude', 'or', 'longitude', 'i', '’', 've', 'got', 'to', '?', '’', '(', 'alice', 'had', 'no', 'idea', 'what', 'latitude', 'was', ',', 'or', 'longitude', 'either', ',', 'but', 'thought', 'they', 'were', 'nice', 'grand', 'words', 'to', 'say', '.', ')'], ['presently', 'she', 'began', 'again', '.'], ['‘', 'i', 'wonder', 'if', 'i', 'shall', 'fall', 'right', 'through', 'the', 'earth', '!'], ['how', 'funny', 'it', '’', 'll', 'seem', 'to', 'come', 'out', 'among', 'the', 'people', 'that', 'walk', 'with', 'their', 'heads', 'downward', '!'], ['the', 'antipathies', ',', 'i', 'think', '--', '’', '(', 'she', 'was', 'rather', 'glad', 'there', 'was', 'no', 'one', 'listening', ',', 'this', 'time', ',', 'as', 'it', 'didn', '’', 't', 'sound', 'at', 'all', 'the', 'right', 'word', ')', '‘', '--', 'but', 'i', 'shall', 'have', 'to', 'ask', 'them', 'what', 'the', 'name', 'of', 'the', 'country', 'is', ',', 'you', 'know', '.'], ['please', ',', 'ma', '’', 'am', ',', 'is', 'this', 'new', 'zealand', 'or', 'australia', '?', '’', '(', 'and', 'she', 'tried', 'to', 'curtsey', 'as', 'she', 'spoke', '--', 'fancy', 'curtseying', 'as', 'you', '’', 're', 'falling', 'through', 'the', 'air', '!'], ['do', 'you', 'think', 'you', 'could', 'manage', 'it', '?', ')'], ['‘', 'and', 'what', 'an', 'ignorant', 'little', 'girl', 'she', '’', 'll', 'think', 'me', 'for', 'asking', '!'], ['no', ',', 'it', '’', 'll', 'never', 'do', 'to', 'ask', ':', 'perhaps', 'i', 'shall', 'see', 'it', 'written', 'up', 'somewhere.', '’', 'down', ',', 'down', ',', 'down', '.'], ['there', 'was', 'nothing', 'else', 'to', 'do', ',', 'so', 'alice', 'soon', 'began', 'talking', 'again', '.'], ['‘', 'dinah', '’', 'll', 'miss', 'me', 'very', 'much', 'to-night', ',', 'i', 'should', 'think', '!', '’', '(', 'dinah', 'was', 'the', 'cat', '.', ')'], ['‘', 'i', 'hope', 'they', '’', 'll', 'remember', 'her', 'saucer', 'of', 'milk', 'at', 'tea-time', '.'], ['dinah', 'my', 'dear', '!']]\n"
     ]
    }
   ],
   "source": [
    "tokens_sentences = []\n",
    "for i in sentences:\n",
    "    \n",
    "    tokens_sentences.append(word_tokenize(i))\n",
    "print(tokens_sentences[:30])\n",
    "# words =[]\n",
    "# for i in sentences:\n",
    "#     words.append(word_tokenize(i))\n",
    "    \n",
    "# tokens = word_tokenize(livro_raw)\n",
    "# print(tokens[:30])\n",
    "# tl=[]\n",
    "# for t in tokens:\n",
    "#   tl.append(t)\n"
   ]
  },
  {
   "cell_type": "code",
   "execution_count": 35,
   "metadata": {},
   "outputs": [
    {
     "name": "stdout",
     "output_type": "stream",
     "text": [
      "['i', 'me', 'my', 'myself', 'we', 'our', 'ours', 'ourselves', 'you', \"you're\", \"you've\", \"you'll\", \"you'd\", 'your', 'yours', 'yourself', 'yourselves', 'he', 'him', 'his', 'himself', 'she', \"she's\", 'her', 'hers', 'herself', 'it', \"it's\", 'its', 'itself']\n",
      "[['project', 'gutenberg', 's', 'alice', 's', 'adventures', 'in', 'wonderland', 'by', 'lewis', 'carroll', 'this', 'ebook', 'is', 'for', 'the', 'use', 'of', 'anyone', 'anywhere', 'at', 'no', 'cost', 'and', 'with', 'almost', 'no', 'restrictions', 'whatsoever'], ['you', 'may', 'copy', 'it', 'give', 'it', 'away', 'or', 'it', 'under', 'the', 'terms', 'of', 'the', 'project', 'gutenberg', 'license', 'included', 'with', 'this', 'ebook', 'or', 'online', 'at', 'title', 'alice', 's', 'adventures', 'in', 'wonderland', 'author', 'lewis', 'carroll', 'posting', 'date', 'june', 'ebook', 'release', 'date', 'march', 'last', 'updated', 'october', 'language', 'english', 'character', 'set', 'encoding', 'start', 'of', 'this', 'project', 'gutenberg', 'ebook', 'alice', 's', 'adventures', 'in', 'wonderland', 'alice', 's', 'adventures', 'in', 'wonderland', 'lewis', 'carroll', 'the', 'millennium', 'fulcrum', 'edition', 'chapter', 'down', 'the', 'alice', 'was', 'beginning', 'to', 'get', 'very', 'tired', 'of', 'sitting', 'by', 'her', 'sister', 'on', 'the', 'bank', 'and', 'of', 'having', 'nothing', 'to', 'do', 'once', 'or', 'twice', 'she', 'had', 'peeped', 'into', 'the', 'book', 'her', 'sister', 'was', 'reading', 'but', 'it', 'had', 'no', 'pictures', 'or', 'conversations', 'in', 'it', 'and', 'what', 'is', 'the', 'use', 'of', 'a', 'book', 'thought', 'alice', 'without', 'pictures', 'or', 'conversations', 'so', 'she', 'was', 'considering', 'in', 'her', 'own', 'mind', 'as', 'well', 'as', 'she', 'could', 'for', 'the', 'hot', 'day', 'made', 'her', 'feel', 'very', 'sleepy', 'and', 'stupid', 'whether', 'the', 'pleasure', 'of', 'making', 'a', 'would', 'be', 'worth', 'the', 'trouble', 'of', 'getting', 'up', 'and', 'picking', 'the', 'daisies', 'when', 'suddenly', 'a', 'white', 'rabbit', 'with', 'pink', 'eyes', 'ran', 'close', 'by', 'her'], ['there', 'was', 'nothing', 'so', 'very', 'remarkable', 'in', 'that', 'nor', 'did', 'alice', 'think', 'it', 'so', 'very', 'much', 'out', 'of', 'the', 'way', 'to', 'hear', 'the', 'rabbit', 'say', 'to', 'itself', 'oh', 'dear'], ['oh', 'dear'], ['i', 'shall', 'be', 'late', 'when', 'she', 'thought', 'it', 'over', 'afterwards', 'it', 'occurred', 'to', 'her', 'that', 'she', 'ought', 'to', 'have', 'wondered', 'at', 'this', 'but', 'at', 'the', 'time', 'it', 'all', 'seemed', 'quite', 'natural', 'but', 'when', 'the', 'rabbit', 'actually', 'took', 'a', 'watch', 'out', 'of', 'its', 'and', 'looked', 'at', 'it', 'and', 'then', 'hurried', 'on', 'alice', 'started', 'to', 'her', 'feet', 'for', 'it', 'flashed', 'across', 'her', 'mind', 'that', 'she', 'had', 'never', 'before', 'seen', 'a', 'rabbit', 'with', 'either', 'a', 'or', 'a', 'watch', 'to', 'take', 'out', 'of', 'it', 'and', 'burning', 'with', 'curiosity', 'she', 'ran', 'across', 'the', 'field', 'after', 'it', 'and', 'fortunately', 'was', 'just', 'in', 'time', 'to', 'see', 'it', 'pop', 'down', 'a', 'large', 'under', 'the', 'hedge'], ['in', 'another', 'moment', 'down', 'went', 'alice', 'after', 'it', 'never', 'once', 'considering', 'how', 'in', 'the', 'world', 'she', 'was', 'to', 'get', 'out', 'again'], ['the', 'went', 'straight', 'on', 'like', 'a', 'tunnel', 'for', 'some', 'way', 'and', 'then', 'dipped', 'suddenly', 'down', 'so', 'suddenly', 'that', 'alice', 'had', 'not', 'a', 'moment', 'to', 'think', 'about', 'stopping', 'herself', 'before', 'she', 'found', 'herself', 'falling', 'down', 'a', 'very', 'deep', 'well'], ['either', 'the', 'well', 'was', 'very', 'deep', 'or', 'she', 'fell', 'very', 'slowly', 'for', 'she', 'had', 'plenty', 'of', 'time', 'as', 'she', 'went', 'down', 'to', 'look', 'about', 'her', 'and', 'to', 'wonder', 'what', 'was', 'going', 'to', 'happen', 'next'], ['first', 'she', 'tried', 'to', 'look', 'down', 'and', 'make', 'out', 'what', 'she', 'was', 'coming', 'to', 'but', 'it', 'was', 'too', 'dark', 'to', 'see', 'anything', 'then', 'she', 'looked', 'at', 'the', 'sides', 'of', 'the', 'well', 'and', 'noticed', 'that', 'they', 'were', 'filled', 'with', 'cupboards', 'and', 'here', 'and', 'there', 'she', 'saw', 'maps', 'and', 'pictures', 'hung', 'upon', 'pegs'], ['she', 'took', 'down', 'a', 'jar', 'from', 'one', 'of', 'the', 'shelves', 'as', 'she', 'passed', 'it', 'was', 'labelled', 'orange', 'marmalade', 'but', 'to', 'her', 'great', 'disappointment', 'it', 'was', 'empty', 'she', 'did', 'not', 'like', 'to', 'drop', 'the', 'jar', 'for', 'fear', 'of', 'killing', 'somebody', 'so', 'managed', 'to', 'put', 'it', 'into', 'one', 'of', 'the', 'cupboards', 'as', 'she', 'fell', 'past', 'it'], ['well', 'thought', 'alice', 'to', 'herself', 'after', 'such', 'a', 'fall', 'as', 'this', 'i', 'shall', 'think', 'nothing', 'of', 'tumbling', 'down', 'stairs'], ['how', 'brave', 'they', 'll', 'all', 'think', 'me', 'at', 'home'], ['why', 'i', 'wouldn', 't', 'say', 'anything', 'about', 'it', 'even', 'if', 'i', 'fell', 'off', 'the', 'top', 'of', 'the', 'house', 'which', 'was', 'very', 'likely', 'true'], ['down', 'down', 'down'], ['would', 'the', 'fall', 'never', 'come', 'to', 'an', 'end'], ['i', 'wonder', 'how', 'many', 'miles', 'i', 've', 'fallen', 'by', 'this', 'time', 'she', 'said', 'aloud'], ['i', 'must', 'be', 'getting', 'somewhere', 'near', 'the', 'centre', 'of', 'the', 'earth'], ['let', 'me', 'see', 'that', 'would', 'be', 'four', 'thousand', 'miles', 'down', 'i', 'think', 'for', 'you', 'see', 'alice', 'had', 'learnt', 'several', 'things', 'of', 'this', 'sort', 'in', 'her', 'lessons', 'in', 'the', 'schoolroom', 'and', 'though', 'this', 'was', 'not', 'a', 'very', 'good', 'opportunity', 'for', 'showing', 'off', 'her', 'knowledge', 'as', 'there', 'was', 'no', 'one', 'to', 'listen', 'to', 'her', 'still', 'it', 'was', 'good', 'practice', 'to', 'say', 'it', 'over', 'yes', 'that', 's', 'about', 'the', 'right', 'distance', 'but', 'then', 'i', 'wonder', 'what', 'latitude', 'or', 'longitude', 'i', 've', 'got', 'to', 'alice', 'had', 'no', 'idea', 'what', 'latitude', 'was', 'or', 'longitude', 'either', 'but', 'thought', 'they', 'were', 'nice', 'grand', 'words', 'to', 'say'], ['presently', 'she', 'began', 'again'], ['i', 'wonder', 'if', 'i', 'shall', 'fall', 'right', 'through', 'the', 'earth'], ['how', 'funny', 'it', 'll', 'seem', 'to', 'come', 'out', 'among', 'the', 'people', 'that', 'walk', 'with', 'their', 'heads', 'downward'], ['the', 'antipathies', 'i', 'think', 'she', 'was', 'rather', 'glad', 'there', 'was', 'no', 'one', 'listening', 'this', 'time', 'as', 'it', 'didn', 't', 'sound', 'at', 'all', 'the', 'right', 'word', 'but', 'i', 'shall', 'have', 'to', 'ask', 'them', 'what', 'the', 'name', 'of', 'the', 'country', 'is', 'you', 'know'], ['please', 'ma', 'am', 'is', 'this', 'new', 'zealand', 'or', 'australia', 'and', 'she', 'tried', 'to', 'curtsey', 'as', 'she', 'spoke', 'fancy', 'curtseying', 'as', 'you', 're', 'falling', 'through', 'the', 'air'], ['do', 'you', 'think', 'you', 'could', 'manage', 'it'], ['and', 'what', 'an', 'ignorant', 'little', 'girl', 'she', 'll', 'think', 'me', 'for', 'asking'], ['no', 'it', 'll', 'never', 'do', 'to', 'ask', 'perhaps', 'i', 'shall', 'see', 'it', 'written', 'up', 'down', 'down', 'down'], ['there', 'was', 'nothing', 'else', 'to', 'do', 'so', 'alice', 'soon', 'began', 'talking', 'again'], ['dinah', 'll', 'miss', 'me', 'very', 'much', 'i', 'should', 'think', 'dinah', 'was', 'the', 'cat'], ['i', 'hope', 'they', 'll', 'remember', 'her', 'saucer', 'of', 'milk', 'at'], ['dinah', 'my', 'dear']]\n"
     ]
    }
   ],
   "source": [
    "stopwords = nltk.corpus.stopwords.words('english')\n",
    "print(stopwords[:30])\n",
    "tl2=[]\n",
    "for t in tokens_sentences:\n",
    "    if t not in stopwords:\n",
    "        tl2.append(t)\n",
    "#sentences = nltk.sent_tokenize(livro_raw)\n",
    "\n",
    "# livro = []\n",
    "# for i in sentences:\n",
    "#     livro.append(Tokenize(i))\n",
    "    \n",
    "#livro = Tokenize(livro)\n",
    "\n",
    "# livro = Stemming(words)\n",
    "# print(livro[215:230])\n",
    "\n",
    "# livro = RemoveStopWords(livro)\n",
    "# print(livro[215:230])\n",
    "\n",
    "# words = [word for word in livro if word.isalpha()]\n",
    "\n",
    "# print(words[215:230])\n",
    "\n",
    "# print(type(words))\n",
    "\n",
    "   \n",
    "# print(tl2[300:330])\n",
    "saida = []\n",
    "for t in tl2:\n",
    "    saida.append([word for word in t if word.isalpha()])\n",
    "print(saida[:30])"
   ]
  },
  {
   "cell_type": "code",
   "execution_count": 27,
   "metadata": {},
   "outputs": [
    {
     "ename": "AttributeError",
     "evalue": "'list' object has no attribute 'lower'",
     "output_type": "error",
     "traceback": [
      "\u001b[0;31m---------------------------------------------------------------------------\u001b[0m",
      "\u001b[0;31mAttributeError\u001b[0m                            Traceback (most recent call last)",
      "\u001b[0;32m<ipython-input-27-1e3a5a7168c0>\u001b[0m in \u001b[0;36m<module>\u001b[0;34m\u001b[0m\n\u001b[1;32m      2\u001b[0m \u001b[0mstemmer\u001b[0m \u001b[0;34m=\u001b[0m \u001b[0mnltk\u001b[0m\u001b[0;34m.\u001b[0m\u001b[0mstem\u001b[0m\u001b[0;34m.\u001b[0m\u001b[0mRSLPStemmer\u001b[0m\u001b[0;34m(\u001b[0m\u001b[0;34m)\u001b[0m\u001b[0;34m\u001b[0m\u001b[0;34m\u001b[0m\u001b[0m\n\u001b[1;32m      3\u001b[0m \u001b[0;32mfor\u001b[0m \u001b[0mw\u001b[0m \u001b[0;32min\u001b[0m \u001b[0msaida\u001b[0m\u001b[0;34m:\u001b[0m\u001b[0;34m\u001b[0m\u001b[0;34m\u001b[0m\u001b[0m\n\u001b[0;32m----> 4\u001b[0;31m     \u001b[0mlivro\u001b[0m\u001b[0;34m.\u001b[0m\u001b[0mappend\u001b[0m\u001b[0;34m(\u001b[0m\u001b[0mstemmer\u001b[0m\u001b[0;34m.\u001b[0m\u001b[0mstem\u001b[0m\u001b[0;34m(\u001b[0m\u001b[0mw\u001b[0m\u001b[0;34m)\u001b[0m\u001b[0;34m)\u001b[0m\u001b[0;34m\u001b[0m\u001b[0;34m\u001b[0m\u001b[0m\n\u001b[0m\u001b[1;32m      5\u001b[0m \u001b[0;34m\u001b[0m\u001b[0m\n\u001b[1;32m      6\u001b[0m \u001b[0mprint\u001b[0m\u001b[0;34m(\u001b[0m\u001b[0mlivro\u001b[0m\u001b[0;34m[\u001b[0m\u001b[0;36m300\u001b[0m\u001b[0;34m:\u001b[0m\u001b[0;36m330\u001b[0m\u001b[0;34m]\u001b[0m\u001b[0;34m)\u001b[0m\u001b[0;34m\u001b[0m\u001b[0;34m\u001b[0m\u001b[0m\n",
      "\u001b[0;32m~/.local/lib/python3.6/site-packages/nltk/stem/rslp.py\u001b[0m in \u001b[0;36mstem\u001b[0;34m(self, word)\u001b[0m\n\u001b[1;32m     98\u001b[0m \u001b[0;34m\u001b[0m\u001b[0m\n\u001b[1;32m     99\u001b[0m     \u001b[0;32mdef\u001b[0m \u001b[0mstem\u001b[0m\u001b[0;34m(\u001b[0m\u001b[0mself\u001b[0m\u001b[0;34m,\u001b[0m \u001b[0mword\u001b[0m\u001b[0;34m)\u001b[0m\u001b[0;34m:\u001b[0m\u001b[0;34m\u001b[0m\u001b[0;34m\u001b[0m\u001b[0m\n\u001b[0;32m--> 100\u001b[0;31m         \u001b[0mword\u001b[0m \u001b[0;34m=\u001b[0m \u001b[0mword\u001b[0m\u001b[0;34m.\u001b[0m\u001b[0mlower\u001b[0m\u001b[0;34m(\u001b[0m\u001b[0;34m)\u001b[0m\u001b[0;34m\u001b[0m\u001b[0;34m\u001b[0m\u001b[0m\n\u001b[0m\u001b[1;32m    101\u001b[0m \u001b[0;34m\u001b[0m\u001b[0m\n\u001b[1;32m    102\u001b[0m         \u001b[0;31m# the word ends in 's'? apply rule for plural reduction\u001b[0m\u001b[0;34m\u001b[0m\u001b[0;34m\u001b[0m\u001b[0;34m\u001b[0m\u001b[0m\n",
      "\u001b[0;31mAttributeError\u001b[0m: 'list' object has no attribute 'lower'"
     ]
    }
   ],
   "source": [
    "\n",
    "livro = []\n",
    "stemmer = nltk.stem.RSLPStemmer()\n",
    "for w in saida:\n",
    "    livro.append(stemmer.stem(w))\n",
    "    \n",
    "print(livro[300:330])"
   ]
  },
  {
   "cell_type": "code",
   "execution_count": null,
   "metadata": {},
   "outputs": [],
   "source": [
    "# stemmer = nltk.stem.RSLPStemmer()\n",
    "# livro = []\n",
    "# for w in words:\n",
    "#     livro.append(stemmer.stem(w))\n",
    "# print(livro[300:330])"
   ]
  },
  {
   "cell_type": "code",
   "execution_count": null,
   "metadata": {},
   "outputs": [],
   "source": [
    "# stopwords = nltk.corpus.stopwords.words('portuguese')\n",
    "# tl=[]\n",
    "# for t in livro:\n",
    "#     if t not in stopwords:\n",
    "#         tl.append(t.lower())\n",
    "        \n",
    "# print(tl[300:330])\n",
    "# words = [word for word in tl if word.isalpha()]\n",
    "# print(words[300:330])"
   ]
  },
  {
   "cell_type": "code",
   "execution_count": null,
   "metadata": {},
   "outputs": [],
   "source": [
    "from gensim.models import Word2Vec\n",
    "model = Word2Vec(words)\n",
    "print(model)"
   ]
  },
  {
   "cell_type": "code",
   "execution_count": null,
   "metadata": {},
   "outputs": [],
   "source": [
    "vocabulary = list(model.wv.vocab)\n",
    "print(vocabulary)"
   ]
  },
  {
   "cell_type": "code",
   "execution_count": 2,
   "metadata": {},
   "outputs": [
    {
     "ename": "KeyboardInterrupt",
     "evalue": "",
     "output_type": "error",
     "traceback": [
      "\u001b[0;31m---------------------------------------------------------------------------\u001b[0m",
      "\u001b[0;31mKeyboardInterrupt\u001b[0m                         Traceback (most recent call last)",
      "\u001b[0;32m<ipython-input-2-58c0ace2bfd9>\u001b[0m in \u001b[0;36m<module>\u001b[0;34m\u001b[0m\n\u001b[1;32m      2\u001b[0m \u001b[0murl\u001b[0m \u001b[0;34m=\u001b[0m \u001b[0;34m\"https://ia801604.us.archive.org/34/items/ptwiki-20170420/ptwiki-20170420-abstract.xml\"\u001b[0m\u001b[0;34m\u001b[0m\u001b[0;34m\u001b[0m\u001b[0m\n\u001b[1;32m      3\u001b[0m \u001b[0mlivro\u001b[0m \u001b[0;34m=\u001b[0m \u001b[0mrequest\u001b[0m\u001b[0;34m.\u001b[0m\u001b[0murlopen\u001b[0m\u001b[0;34m(\u001b[0m\u001b[0murl\u001b[0m\u001b[0;34m)\u001b[0m\u001b[0;34m\u001b[0m\u001b[0;34m\u001b[0m\u001b[0m\n\u001b[0;32m----> 4\u001b[0;31m \u001b[0mlivro_raw\u001b[0m \u001b[0;34m=\u001b[0m \u001b[0mlivro\u001b[0m\u001b[0;34m.\u001b[0m\u001b[0mread\u001b[0m\u001b[0;34m(\u001b[0m\u001b[0;34m)\u001b[0m\u001b[0;34m.\u001b[0m\u001b[0mdecode\u001b[0m\u001b[0;34m(\u001b[0m\u001b[0;34m'utf-8-sig'\u001b[0m\u001b[0;34m)\u001b[0m\u001b[0;34m\u001b[0m\u001b[0;34m\u001b[0m\u001b[0m\n\u001b[0m\u001b[1;32m      5\u001b[0m \u001b[0mprint\u001b[0m\u001b[0;34m(\u001b[0m\u001b[0mlen\u001b[0m\u001b[0;34m(\u001b[0m\u001b[0mlivro_raw\u001b[0m\u001b[0;34m)\u001b[0m\u001b[0;34m)\u001b[0m\u001b[0;34m\u001b[0m\u001b[0;34m\u001b[0m\u001b[0m\n",
      "\u001b[0;32m/usr/lib/python3.6/http/client.py\u001b[0m in \u001b[0;36mread\u001b[0;34m(self, amt)\u001b[0m\n\u001b[1;32m    470\u001b[0m             \u001b[0;32melse\u001b[0m\u001b[0;34m:\u001b[0m\u001b[0;34m\u001b[0m\u001b[0;34m\u001b[0m\u001b[0m\n\u001b[1;32m    471\u001b[0m                 \u001b[0;32mtry\u001b[0m\u001b[0;34m:\u001b[0m\u001b[0;34m\u001b[0m\u001b[0;34m\u001b[0m\u001b[0m\n\u001b[0;32m--> 472\u001b[0;31m                     \u001b[0ms\u001b[0m \u001b[0;34m=\u001b[0m \u001b[0mself\u001b[0m\u001b[0;34m.\u001b[0m\u001b[0m_safe_read\u001b[0m\u001b[0;34m(\u001b[0m\u001b[0mself\u001b[0m\u001b[0;34m.\u001b[0m\u001b[0mlength\u001b[0m\u001b[0;34m)\u001b[0m\u001b[0;34m\u001b[0m\u001b[0;34m\u001b[0m\u001b[0m\n\u001b[0m\u001b[1;32m    473\u001b[0m                 \u001b[0;32mexcept\u001b[0m \u001b[0mIncompleteRead\u001b[0m\u001b[0;34m:\u001b[0m\u001b[0;34m\u001b[0m\u001b[0;34m\u001b[0m\u001b[0m\n\u001b[1;32m    474\u001b[0m                     \u001b[0mself\u001b[0m\u001b[0;34m.\u001b[0m\u001b[0m_close_conn\u001b[0m\u001b[0;34m(\u001b[0m\u001b[0;34m)\u001b[0m\u001b[0;34m\u001b[0m\u001b[0;34m\u001b[0m\u001b[0m\n",
      "\u001b[0;32m/usr/lib/python3.6/http/client.py\u001b[0m in \u001b[0;36m_safe_read\u001b[0;34m(self, amt)\u001b[0m\n\u001b[1;32m    620\u001b[0m         \u001b[0ms\u001b[0m \u001b[0;34m=\u001b[0m \u001b[0;34m[\u001b[0m\u001b[0;34m]\u001b[0m\u001b[0;34m\u001b[0m\u001b[0;34m\u001b[0m\u001b[0m\n\u001b[1;32m    621\u001b[0m         \u001b[0;32mwhile\u001b[0m \u001b[0mamt\u001b[0m \u001b[0;34m>\u001b[0m \u001b[0;36m0\u001b[0m\u001b[0;34m:\u001b[0m\u001b[0;34m\u001b[0m\u001b[0;34m\u001b[0m\u001b[0m\n\u001b[0;32m--> 622\u001b[0;31m             \u001b[0mchunk\u001b[0m \u001b[0;34m=\u001b[0m \u001b[0mself\u001b[0m\u001b[0;34m.\u001b[0m\u001b[0mfp\u001b[0m\u001b[0;34m.\u001b[0m\u001b[0mread\u001b[0m\u001b[0;34m(\u001b[0m\u001b[0mmin\u001b[0m\u001b[0;34m(\u001b[0m\u001b[0mamt\u001b[0m\u001b[0;34m,\u001b[0m \u001b[0mMAXAMOUNT\u001b[0m\u001b[0;34m)\u001b[0m\u001b[0;34m)\u001b[0m\u001b[0;34m\u001b[0m\u001b[0;34m\u001b[0m\u001b[0m\n\u001b[0m\u001b[1;32m    623\u001b[0m             \u001b[0;32mif\u001b[0m \u001b[0;32mnot\u001b[0m \u001b[0mchunk\u001b[0m\u001b[0;34m:\u001b[0m\u001b[0;34m\u001b[0m\u001b[0;34m\u001b[0m\u001b[0m\n\u001b[1;32m    624\u001b[0m                 \u001b[0;32mraise\u001b[0m \u001b[0mIncompleteRead\u001b[0m\u001b[0;34m(\u001b[0m\u001b[0;34mb''\u001b[0m\u001b[0;34m.\u001b[0m\u001b[0mjoin\u001b[0m\u001b[0;34m(\u001b[0m\u001b[0ms\u001b[0m\u001b[0;34m)\u001b[0m\u001b[0;34m,\u001b[0m \u001b[0mamt\u001b[0m\u001b[0;34m)\u001b[0m\u001b[0;34m\u001b[0m\u001b[0;34m\u001b[0m\u001b[0m\n",
      "\u001b[0;32m/usr/lib/python3.6/socket.py\u001b[0m in \u001b[0;36mreadinto\u001b[0;34m(self, b)\u001b[0m\n\u001b[1;32m    584\u001b[0m         \u001b[0;32mwhile\u001b[0m \u001b[0;32mTrue\u001b[0m\u001b[0;34m:\u001b[0m\u001b[0;34m\u001b[0m\u001b[0;34m\u001b[0m\u001b[0m\n\u001b[1;32m    585\u001b[0m             \u001b[0;32mtry\u001b[0m\u001b[0;34m:\u001b[0m\u001b[0;34m\u001b[0m\u001b[0;34m\u001b[0m\u001b[0m\n\u001b[0;32m--> 586\u001b[0;31m                 \u001b[0;32mreturn\u001b[0m \u001b[0mself\u001b[0m\u001b[0;34m.\u001b[0m\u001b[0m_sock\u001b[0m\u001b[0;34m.\u001b[0m\u001b[0mrecv_into\u001b[0m\u001b[0;34m(\u001b[0m\u001b[0mb\u001b[0m\u001b[0;34m)\u001b[0m\u001b[0;34m\u001b[0m\u001b[0;34m\u001b[0m\u001b[0m\n\u001b[0m\u001b[1;32m    587\u001b[0m             \u001b[0;32mexcept\u001b[0m \u001b[0mtimeout\u001b[0m\u001b[0;34m:\u001b[0m\u001b[0;34m\u001b[0m\u001b[0;34m\u001b[0m\u001b[0m\n\u001b[1;32m    588\u001b[0m                 \u001b[0mself\u001b[0m\u001b[0;34m.\u001b[0m\u001b[0m_timeout_occurred\u001b[0m \u001b[0;34m=\u001b[0m \u001b[0;32mTrue\u001b[0m\u001b[0;34m\u001b[0m\u001b[0;34m\u001b[0m\u001b[0m\n",
      "\u001b[0;32m/usr/lib/python3.6/ssl.py\u001b[0m in \u001b[0;36mrecv_into\u001b[0;34m(self, buffer, nbytes, flags)\u001b[0m\n\u001b[1;32m   1010\u001b[0m                   \u001b[0;34m\"non-zero flags not allowed in calls to recv_into() on %s\"\u001b[0m \u001b[0;34m%\u001b[0m\u001b[0;34m\u001b[0m\u001b[0;34m\u001b[0m\u001b[0m\n\u001b[1;32m   1011\u001b[0m                   self.__class__)\n\u001b[0;32m-> 1012\u001b[0;31m             \u001b[0;32mreturn\u001b[0m \u001b[0mself\u001b[0m\u001b[0;34m.\u001b[0m\u001b[0mread\u001b[0m\u001b[0;34m(\u001b[0m\u001b[0mnbytes\u001b[0m\u001b[0;34m,\u001b[0m \u001b[0mbuffer\u001b[0m\u001b[0;34m)\u001b[0m\u001b[0;34m\u001b[0m\u001b[0;34m\u001b[0m\u001b[0m\n\u001b[0m\u001b[1;32m   1013\u001b[0m         \u001b[0;32melse\u001b[0m\u001b[0;34m:\u001b[0m\u001b[0;34m\u001b[0m\u001b[0;34m\u001b[0m\u001b[0m\n\u001b[1;32m   1014\u001b[0m             \u001b[0;32mreturn\u001b[0m \u001b[0msocket\u001b[0m\u001b[0;34m.\u001b[0m\u001b[0mrecv_into\u001b[0m\u001b[0;34m(\u001b[0m\u001b[0mself\u001b[0m\u001b[0;34m,\u001b[0m \u001b[0mbuffer\u001b[0m\u001b[0;34m,\u001b[0m \u001b[0mnbytes\u001b[0m\u001b[0;34m,\u001b[0m \u001b[0mflags\u001b[0m\u001b[0;34m)\u001b[0m\u001b[0;34m\u001b[0m\u001b[0;34m\u001b[0m\u001b[0m\n",
      "\u001b[0;32m/usr/lib/python3.6/ssl.py\u001b[0m in \u001b[0;36mread\u001b[0;34m(self, len, buffer)\u001b[0m\n\u001b[1;32m    872\u001b[0m             \u001b[0;32mraise\u001b[0m \u001b[0mValueError\u001b[0m\u001b[0;34m(\u001b[0m\u001b[0;34m\"Read on closed or unwrapped SSL socket.\"\u001b[0m\u001b[0;34m)\u001b[0m\u001b[0;34m\u001b[0m\u001b[0;34m\u001b[0m\u001b[0m\n\u001b[1;32m    873\u001b[0m         \u001b[0;32mtry\u001b[0m\u001b[0;34m:\u001b[0m\u001b[0;34m\u001b[0m\u001b[0;34m\u001b[0m\u001b[0m\n\u001b[0;32m--> 874\u001b[0;31m             \u001b[0;32mreturn\u001b[0m \u001b[0mself\u001b[0m\u001b[0;34m.\u001b[0m\u001b[0m_sslobj\u001b[0m\u001b[0;34m.\u001b[0m\u001b[0mread\u001b[0m\u001b[0;34m(\u001b[0m\u001b[0mlen\u001b[0m\u001b[0;34m,\u001b[0m \u001b[0mbuffer\u001b[0m\u001b[0;34m)\u001b[0m\u001b[0;34m\u001b[0m\u001b[0;34m\u001b[0m\u001b[0m\n\u001b[0m\u001b[1;32m    875\u001b[0m         \u001b[0;32mexcept\u001b[0m \u001b[0mSSLError\u001b[0m \u001b[0;32mas\u001b[0m \u001b[0mx\u001b[0m\u001b[0;34m:\u001b[0m\u001b[0;34m\u001b[0m\u001b[0;34m\u001b[0m\u001b[0m\n\u001b[1;32m    876\u001b[0m             \u001b[0;32mif\u001b[0m \u001b[0mx\u001b[0m\u001b[0;34m.\u001b[0m\u001b[0margs\u001b[0m\u001b[0;34m[\u001b[0m\u001b[0;36m0\u001b[0m\u001b[0;34m]\u001b[0m \u001b[0;34m==\u001b[0m \u001b[0mSSL_ERROR_EOF\u001b[0m \u001b[0;32mand\u001b[0m \u001b[0mself\u001b[0m\u001b[0;34m.\u001b[0m\u001b[0msuppress_ragged_eofs\u001b[0m\u001b[0;34m:\u001b[0m\u001b[0;34m\u001b[0m\u001b[0;34m\u001b[0m\u001b[0m\n",
      "\u001b[0;32m/usr/lib/python3.6/ssl.py\u001b[0m in \u001b[0;36mread\u001b[0;34m(self, len, buffer)\u001b[0m\n\u001b[1;32m    629\u001b[0m         \"\"\"\n\u001b[1;32m    630\u001b[0m         \u001b[0;32mif\u001b[0m \u001b[0mbuffer\u001b[0m \u001b[0;32mis\u001b[0m \u001b[0;32mnot\u001b[0m \u001b[0;32mNone\u001b[0m\u001b[0;34m:\u001b[0m\u001b[0;34m\u001b[0m\u001b[0;34m\u001b[0m\u001b[0m\n\u001b[0;32m--> 631\u001b[0;31m             \u001b[0mv\u001b[0m \u001b[0;34m=\u001b[0m \u001b[0mself\u001b[0m\u001b[0;34m.\u001b[0m\u001b[0m_sslobj\u001b[0m\u001b[0;34m.\u001b[0m\u001b[0mread\u001b[0m\u001b[0;34m(\u001b[0m\u001b[0mlen\u001b[0m\u001b[0;34m,\u001b[0m \u001b[0mbuffer\u001b[0m\u001b[0;34m)\u001b[0m\u001b[0;34m\u001b[0m\u001b[0;34m\u001b[0m\u001b[0m\n\u001b[0m\u001b[1;32m    632\u001b[0m         \u001b[0;32melse\u001b[0m\u001b[0;34m:\u001b[0m\u001b[0;34m\u001b[0m\u001b[0;34m\u001b[0m\u001b[0m\n\u001b[1;32m    633\u001b[0m             \u001b[0mv\u001b[0m \u001b[0;34m=\u001b[0m \u001b[0mself\u001b[0m\u001b[0;34m.\u001b[0m\u001b[0m_sslobj\u001b[0m\u001b[0;34m.\u001b[0m\u001b[0mread\u001b[0m\u001b[0;34m(\u001b[0m\u001b[0mlen\u001b[0m\u001b[0;34m)\u001b[0m\u001b[0;34m\u001b[0m\u001b[0;34m\u001b[0m\u001b[0m\n",
      "\u001b[0;31mKeyboardInterrupt\u001b[0m: "
     ]
    }
   ],
   "source": [
    "from urllib import request\n",
    "url = \"https://ia801604.us.archive.org/34/items/ptwiki-20170420/ptwiki-20170420-abstract.xml\" \n",
    "livro = request.urlopen(url)\n",
    "livro_raw = livro.read().decode('utf-8-sig') \n",
    "print(len(livro_raw))"
   ]
  }
 ],
 "metadata": {
  "kernelspec": {
   "display_name": "Python 3",
   "language": "python",
   "name": "python3"
  },
  "language_info": {
   "codemirror_mode": {
    "name": "ipython",
    "version": 3
   },
   "file_extension": ".py",
   "mimetype": "text/x-python",
   "name": "python",
   "nbconvert_exporter": "python",
   "pygments_lexer": "ipython3",
   "version": "3.6.8"
  }
 },
 "nbformat": 4,
 "nbformat_minor": 2
}

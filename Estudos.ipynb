{
 "cells": [
  {
   "cell_type": "markdown",
   "metadata": {},
   "source": [
    "# Projeto de NLP"
   ]
  },
  {
   "cell_type": "markdown",
   "metadata": {},
   "source": [
    "Importando algumas bibliotecas importantes:\n",
    "\n",
    "* biblioteca NLTK(Natural Language Tool Kit) e também o NLTK RSLP(Removedor de Sufixos da Língua Portuguesa) que é um conjunto de funções de tratamento de textos especifico para a nossa língua portuguesa(pt-br)."
   ]
  },
  {
   "cell_type": "code",
   "execution_count": 1,
   "metadata": {},
   "outputs": [
    {
     "name": "stdout",
     "output_type": "stream",
     "text": [
      "[nltk_data] Downloading package punkt to /home/caroline/nltk_data...\n",
      "[nltk_data]   Package punkt is already up-to-date!\n",
      "[nltk_data] Downloading package rslp to /home/caroline/nltk_data...\n",
      "[nltk_data]   Package rslp is already up-to-date!\n",
      "[nltk_data] Downloading package stopwords to\n",
      "[nltk_data]     /home/caroline/nltk_data...\n",
      "[nltk_data]   Package stopwords is already up-to-date!\n",
      "[nltk_data] Downloading package averaged_perceptron_tagger to\n",
      "[nltk_data]     /home/caroline/nltk_data...\n",
      "[nltk_data]   Package averaged_perceptron_tagger is already up-to-\n",
      "[nltk_data]       date!\n",
      "[nltk_data] Downloading package maxent_ne_chunker to\n",
      "[nltk_data]     /home/caroline/nltk_data...\n",
      "[nltk_data]   Package maxent_ne_chunker is already up-to-date!\n",
      "[nltk_data] Downloading package words to /home/caroline/nltk_data...\n",
      "[nltk_data]   Package words is already up-to-date!\n",
      "[nltk_data] Downloading package treebank to\n",
      "[nltk_data]     /home/caroline/nltk_data...\n",
      "[nltk_data]   Package treebank is already up-to-date!\n"
     ]
    },
    {
     "data": {
      "text/plain": [
       "True"
      ]
     },
     "execution_count": 1,
     "metadata": {},
     "output_type": "execute_result"
    }
   ],
   "source": [
    "import nltk \n",
    "from nltk.stem import RSLPStemmer\n",
    "nltk.download('punkt')\n",
    "nltk.download('rslp')\n",
    "nltk.download('stopwords')\n",
    "nltk.download('averaged_perceptron_tagger')\n",
    "nltk.download('maxent_ne_chunker')\n",
    "nltk.download('words')\n",
    "nltk.download('treebank')\n",
    "\n",
    "#import spacy\n",
    "\n",
    "\n",
    "\n",
    "\n",
    "\n"
   ]
  },
  {
   "cell_type": "markdown",
   "metadata": {},
   "source": [
    "Algumas funções:\n"
   ]
  },
  {
   "cell_type": "markdown",
   "metadata": {},
   "source": [
    "1. Tokenize: quebra o texto por palavras, criando um array com todas as palavras contidas dentro do texto. Por exemplo, \"Eu gosto de Correr\" → [\"eu\",\"gosto\",\"de\",\"correr\"]"
   ]
  },
  {
   "cell_type": "code",
   "execution_count": 2,
   "metadata": {},
   "outputs": [],
   "source": [
    "def Tokenize(sentence):\n",
    "    sentence = sentence.lower()\n",
    "    sentence = nltk.word_tokenize(sentence)\n",
    "    return sentence"
   ]
  },
  {
   "cell_type": "code",
   "execution_count": 3,
   "metadata": {},
   "outputs": [
    {
     "name": "stdout",
     "output_type": "stream",
     "text": [
      "['eu', 'gosto', 'de', 'correr']\n"
     ]
    }
   ],
   "source": [
    "frase = Tokenize(\"Eu gosto de correr\")\n",
    "print(frase)"
   ]
  },
  {
   "cell_type": "markdown",
   "metadata": {},
   "source": [
    "1. Ou podemos utilizar o Spacy:\n"
   ]
  },
  {
   "cell_type": "markdown",
   "metadata": {},
   "source": [
    "nlp = spacy.load('pt')\n",
    "doc = nlp(u'Você encontrou o livro que eu te falei, Carla?')\n",
    "doc.text.split()"
   ]
  },
  {
   "cell_type": "markdown",
   "metadata": {},
   "source": [
    "Para separar a pontuação:"
   ]
  },
  {
   "cell_type": "markdown",
   "metadata": {},
   "source": [
    "tok=[token for token in doc]\n",
    "print(type(tok[0]))\n",
    "print(tok)"
   ]
  },
  {
   "cell_type": "markdown",
   "metadata": {},
   "source": [
    "Não tem mais estrutura de string, por isso, usamos o método .orth_:"
   ]
  },
  {
   "cell_type": "markdown",
   "metadata": {},
   "source": [
    "[token.orth_ for token in doc]"
   ]
  },
  {
   "cell_type": "markdown",
   "metadata": {},
   "source": [
    "2. Stemming: diminui a palavra até a sua raiz/base, pois assim, conseguimos tratar as palavras originais e suas respectivas derivações de uma mesma maneira. "
   ]
  },
  {
   "cell_type": "code",
   "execution_count": 4,
   "metadata": {},
   "outputs": [],
   "source": [
    "def Stemming(sentence):\n",
    "    stemmer = RSLPStemmer()\n",
    "    phrase = []\n",
    "    for word in sentence:\n",
    "        phrase.append(stemmer.stem(word.lower()))\n",
    "    return phrase"
   ]
  },
  {
   "cell_type": "code",
   "execution_count": 5,
   "metadata": {},
   "outputs": [
    {
     "name": "stdout",
     "output_type": "stream",
     "text": [
      "['eu', 'gost', 'de', 'corr']\n"
     ]
    }
   ],
   "source": [
    "frase = Stemming(frase)\n",
    "print(frase)"
   ]
  },
  {
   "cell_type": "markdown",
   "metadata": {},
   "source": [
    "3. RemoveStopWords: essa função serve para retiramos dentro do nosso array algumas palavras que não são interessantes para contabilizarmos uma pontuação na hora de classificar o nosso texto, então mantemos somente as palavras principais."
   ]
  },
  {
   "cell_type": "code",
   "execution_count": 6,
   "metadata": {},
   "outputs": [],
   "source": [
    "def RemoveStopWords(sentence):\n",
    "    stopwords = nltk.corpus.stopwords.words('portuguese')\n",
    "    phrase = []\n",
    "    for word in sentence:\n",
    "        if word not in stopwords:\n",
    "            phrase.append(word)\n",
    "    return phrase"
   ]
  },
  {
   "cell_type": "code",
   "execution_count": 7,
   "metadata": {},
   "outputs": [
    {
     "name": "stdout",
     "output_type": "stream",
     "text": [
      "['gost', 'corr']\n"
     ]
    }
   ],
   "source": [
    "frase = RemoveStopWords(frase)\n",
    "print(frase)"
   ]
  },
  {
   "cell_type": "markdown",
   "metadata": {},
   "source": [
    "Vendo quais as stop words:"
   ]
  },
  {
   "cell_type": "code",
   "execution_count": 8,
   "metadata": {},
   "outputs": [
    {
     "name": "stdout",
     "output_type": "stream",
     "text": [
      "['de', 'a', 'o', 'que', 'e', 'é', 'do', 'da', 'em', 'um', 'para', 'com', 'não', 'uma', 'os', 'no', 'se', 'na', 'por', 'mais', 'as', 'dos', 'como', 'mas', 'ao', 'ele', 'das', 'à', 'seu', 'sua', 'ou', 'quando', 'muito', 'nos', 'já', 'eu', 'também', 'só', 'pelo', 'pela', 'até', 'isso', 'ela', 'entre', 'depois', 'sem', 'mesmo', 'aos', 'seus', 'quem', 'nas', 'me', 'esse', 'eles', 'você', 'essa', 'num', 'nem', 'suas', 'meu', 'às', 'minha', 'numa', 'pelos', 'elas', 'qual', 'nós', 'lhe', 'deles', 'essas', 'esses', 'pelas', 'este', 'dele', 'tu', 'te', 'vocês', 'vos', 'lhes', 'meus', 'minhas', 'teu', 'tua', 'teus', 'tuas', 'nosso', 'nossa', 'nossos', 'nossas', 'dela', 'delas', 'esta', 'estes', 'estas', 'aquele', 'aquela', 'aqueles', 'aquelas', 'isto', 'aquilo', 'estou', 'está', 'estamos', 'estão', 'estive', 'esteve', 'estivemos', 'estiveram', 'estava', 'estávamos', 'estavam', 'estivera', 'estivéramos', 'esteja', 'estejamos', 'estejam', 'estivesse', 'estivéssemos', 'estivessem', 'estiver', 'estivermos', 'estiverem', 'hei', 'há', 'havemos', 'hão', 'houve', 'houvemos', 'houveram', 'houvera', 'houvéramos', 'haja', 'hajamos', 'hajam', 'houvesse', 'houvéssemos', 'houvessem', 'houver', 'houvermos', 'houverem', 'houverei', 'houverá', 'houveremos', 'houverão', 'houveria', 'houveríamos', 'houveriam', 'sou', 'somos', 'são', 'era', 'éramos', 'eram', 'fui', 'foi', 'fomos', 'foram', 'fora', 'fôramos', 'seja', 'sejamos', 'sejam', 'fosse', 'fôssemos', 'fossem', 'for', 'formos', 'forem', 'serei', 'será', 'seremos', 'serão', 'seria', 'seríamos', 'seriam', 'tenho', 'tem', 'temos', 'tém', 'tinha', 'tínhamos', 'tinham', 'tive', 'teve', 'tivemos', 'tiveram', 'tivera', 'tivéramos', 'tenha', 'tenhamos', 'tenham', 'tivesse', 'tivéssemos', 'tivessem', 'tiver', 'tivermos', 'tiverem', 'terei', 'terá', 'teremos', 'terão', 'teria', 'teríamos', 'teriam']\n"
     ]
    }
   ],
   "source": [
    "stopwords = nltk.corpus.stopwords.words('portuguese')\n",
    "print(stopwords)"
   ]
  },
  {
   "cell_type": "code",
   "execution_count": 9,
   "metadata": {},
   "outputs": [
    {
     "name": "stdout",
     "output_type": "stream",
     "text": [
      "[('gost', 'NN'), ('corr', 'NN')]\n"
     ]
    }
   ],
   "source": [
    "tagged = nltk.pos_tag(frase)\n",
    "print(tagged[0:6])"
   ]
  },
  {
   "cell_type": "code",
   "execution_count": 10,
   "metadata": {},
   "outputs": [
    {
     "name": "stdout",
     "output_type": "stream",
     "text": [
      "(S gost/NN corr/NN)\n"
     ]
    }
   ],
   "source": [
    "entities = nltk.chunk.ne_chunk(tagged)\n",
    "print(entities)"
   ]
  },
  {
   "cell_type": "code",
   "execution_count": 11,
   "metadata": {},
   "outputs": [],
   "source": [
    "from nltk.corpus import treebank\n",
    "t = treebank.parsed_sents('wsj_0001.mrg')[0]\n",
    "t.draw()"
   ]
  },
  {
   "cell_type": "markdown",
   "metadata": {},
   "source": [
    "## Estudando o gensim:"
   ]
  },
  {
   "cell_type": "markdown",
   "metadata": {},
   "source": [
    "sg ({0, 1}, optional) – Training algorithm: 1 for skip-gram; otherwise CBOW."
   ]
  },
  {
   "cell_type": "code",
   "execution_count": null,
   "metadata": {},
   "outputs": [],
   "source": []
  },
  {
   "attachments": {
    "word2vec_diagrams.png": {
     "image/png": "[encoded data removed]"
    }
   },
   "cell_type": "markdown",
   "metadata": {},
   "source": [
    "# Word2vec\n",
    "#### Word Embedding é uma técnica de modelagem de linguagem usada para mapear palavras para vetores de números reais. Representa palavras ou frases no espaço vetorial com várias dimensões. Word Embeddings podem ser geradas usando vários métodos, como redes neurais, matriz de co-ocorrência, modelos probabilísticos, etc.\n",
    "\n",
    "O Word2Vec consiste em modelos para gerar Word Embedding. Esses modelos são redes neurais de duas camadas com uma camada de entrada, uma camada oculta e uma camada de saída. O Word2Vec utiliza dois algoritmos:\n",
    "\n",
    "1. CBOW (Pacote Contínuo de Palavras): o modelo CBOW prevê a palavra atual, dadas as palavras de contexto em uma janela específica. A camada de entrada contém as palavras de contexto e a camada de saída contém a palavra atual. A camada oculta contém o número de dimensões nas quais queremos representar a palavra atual presente na camada de saída.\n",
    "\n",
    "2. Skip Gram: prevê as palavras do contexto circundante em uma janela específica, com a palavra atual. A camada de entrada contém a palavra atual e a camada de saída contém as palavras de contexto. A camada oculta contém o número de dimensões nas quais queremos representar a palavra atual presente na camada de entrada.\n",
    "![word2vec_diagrams.png](attachment:word2vec_diagrams.png)\n",
    "\n",
    "Ambos têm suas próprias vantagens e desvantagens. De acordo com Mikolov, Skip Gram funciona bem com pouca quantidade de dados e pode representar bem palavras raras.\n",
    "\n",
    "Por outro lado, o CBOW é mais rápido e tem melhores representações para palavras mais frequentes."
   ]
  },
  {
   "cell_type": "markdown",
   "metadata": {},
   "source": [
    "# Testando os conhecimentos\n",
    "### usando nltk e word2vec"
   ]
  },
  {
   "cell_type": "markdown",
   "metadata": {},
   "source": [
    "#### pegando o livro da Alice no país das maravilhas -> teste"
   ]
  },
  {
   "cell_type": "markdown",
   "metadata": {},
   "source": [
    "from urllib2 import urlopen\n",
    "url = \"http://www.gutenberg.org/files/11/11-0.txt\"\n",
    "livro = urlopen(url)\n",
    "livro_raw = livro.read().decode('utf-8-sig')\n",
    "print(len(livro_raw))"
   ]
  },
  {
   "cell_type": "markdown",
   "metadata": {},
   "source": [
    "livro_raw[:75]"
   ]
  },
  {
   "cell_type": "markdown",
   "metadata": {},
   "source": [
    "#### pegando os livros de Machado de Assis"
   ]
  },
  {
   "cell_type": "code",
   "execution_count": 12,
   "metadata": {},
   "outputs": [
    {
     "name": "stdout",
     "output_type": "stream",
     "text": [
      "[nltk_data] Downloading collection 'book'\n",
      "[nltk_data]    | \n",
      "[nltk_data]    | Downloading package abc to\n",
      "[nltk_data]    |     /home/caroline/nltk_data...\n",
      "[nltk_data]    |   Package abc is already up-to-date!\n",
      "[nltk_data]    | Downloading package brown to\n",
      "[nltk_data]    |     /home/caroline/nltk_data...\n",
      "[nltk_data]    |   Package brown is already up-to-date!\n",
      "[nltk_data]    | Downloading package chat80 to\n",
      "[nltk_data]    |     /home/caroline/nltk_data...\n",
      "[nltk_data]    |   Package chat80 is already up-to-date!\n",
      "[nltk_data]    | Downloading package cmudict to\n",
      "[nltk_data]    |     /home/caroline/nltk_data...\n",
      "[nltk_data]    |   Package cmudict is already up-to-date!\n",
      "[nltk_data]    | Downloading package conll2000 to\n",
      "[nltk_data]    |     /home/caroline/nltk_data...\n",
      "[nltk_data]    |   Package conll2000 is already up-to-date!\n",
      "[nltk_data]    | Downloading package conll2002 to\n",
      "[nltk_data]    |     /home/caroline/nltk_data...\n",
      "[nltk_data]    |   Package conll2002 is already up-to-date!\n",
      "[nltk_data]    | Downloading package dependency_treebank to\n",
      "[nltk_data]    |     /home/caroline/nltk_data...\n",
      "[nltk_data]    |   Package dependency_treebank is already up-to-date!\n",
      "[nltk_data]    | Downloading package genesis to\n",
      "[nltk_data]    |     /home/caroline/nltk_data...\n",
      "[nltk_data]    |   Package genesis is already up-to-date!\n",
      "[nltk_data]    | Downloading package gutenberg to\n",
      "[nltk_data]    |     /home/caroline/nltk_data...\n",
      "[nltk_data]    |   Package gutenberg is already up-to-date!\n",
      "[nltk_data]    | Downloading package ieer to\n",
      "[nltk_data]    |     /home/caroline/nltk_data...\n",
      "[nltk_data]    |   Package ieer is already up-to-date!\n",
      "[nltk_data]    | Downloading package inaugural to\n",
      "[nltk_data]    |     /home/caroline/nltk_data...\n",
      "[nltk_data]    |   Package inaugural is already up-to-date!\n",
      "[nltk_data]    | Downloading package movie_reviews to\n",
      "[nltk_data]    |     /home/caroline/nltk_data...\n",
      "[nltk_data]    |   Package movie_reviews is already up-to-date!\n",
      "[nltk_data]    | Downloading package nps_chat to\n",
      "[nltk_data]    |     /home/caroline/nltk_data...\n",
      "[nltk_data]    |   Package nps_chat is already up-to-date!\n",
      "[nltk_data]    | Downloading package names to\n",
      "[nltk_data]    |     /home/caroline/nltk_data...\n",
      "[nltk_data]    |   Package names is already up-to-date!\n",
      "[nltk_data]    | Downloading package ppattach to\n",
      "[nltk_data]    |     /home/caroline/nltk_data...\n",
      "[nltk_data]    |   Package ppattach is already up-to-date!\n",
      "[nltk_data]    | Downloading package reuters to\n",
      "[nltk_data]    |     /home/caroline/nltk_data...\n",
      "[nltk_data]    |   Package reuters is already up-to-date!\n",
      "[nltk_data]    | Downloading package senseval to\n",
      "[nltk_data]    |     /home/caroline/nltk_data...\n",
      "[nltk_data]    |   Package senseval is already up-to-date!\n",
      "[nltk_data]    | Downloading package state_union to\n",
      "[nltk_data]    |     /home/caroline/nltk_data...\n",
      "[nltk_data]    |   Package state_union is already up-to-date!\n",
      "[nltk_data]    | Downloading package stopwords to\n",
      "[nltk_data]    |     /home/caroline/nltk_data...\n",
      "[nltk_data]    |   Package stopwords is already up-to-date!\n",
      "[nltk_data]    | Downloading package swadesh to\n",
      "[nltk_data]    |     /home/caroline/nltk_data...\n",
      "[nltk_data]    |   Package swadesh is already up-to-date!\n",
      "[nltk_data]    | Downloading package timit to\n",
      "[nltk_data]    |     /home/caroline/nltk_data...\n",
      "[nltk_data]    |   Package timit is already up-to-date!\n",
      "[nltk_data]    | Downloading package treebank to\n",
      "[nltk_data]    |     /home/caroline/nltk_data...\n",
      "[nltk_data]    |   Package treebank is already up-to-date!\n",
      "[nltk_data]    | Downloading package toolbox to\n",
      "[nltk_data]    |     /home/caroline/nltk_data...\n",
      "[nltk_data]    |   Package toolbox is already up-to-date!\n",
      "[nltk_data]    | Downloading package udhr to\n",
      "[nltk_data]    |     /home/caroline/nltk_data...\n",
      "[nltk_data]    |   Package udhr is already up-to-date!\n",
      "[nltk_data]    | Downloading package udhr2 to\n",
      "[nltk_data]    |     /home/caroline/nltk_data...\n",
      "[nltk_data]    |   Package udhr2 is already up-to-date!\n",
      "[nltk_data]    | Downloading package unicode_samples to\n",
      "[nltk_data]    |     /home/caroline/nltk_data...\n",
      "[nltk_data]    |   Package unicode_samples is already up-to-date!\n",
      "[nltk_data]    | Downloading package webtext to\n",
      "[nltk_data]    |     /home/caroline/nltk_data...\n",
      "[nltk_data]    |   Package webtext is already up-to-date!\n",
      "[nltk_data]    | Downloading package wordnet to\n",
      "[nltk_data]    |     /home/caroline/nltk_data...\n",
      "[nltk_data]    |   Package wordnet is already up-to-date!\n",
      "[nltk_data]    | Downloading package wordnet_ic to\n",
      "[nltk_data]    |     /home/caroline/nltk_data...\n",
      "[nltk_data]    |   Package wordnet_ic is already up-to-date!\n",
      "[nltk_data]    | Downloading package words to\n",
      "[nltk_data]    |     /home/caroline/nltk_data...\n",
      "[nltk_data]    |   Package words is already up-to-date!\n",
      "[nltk_data]    | Downloading package maxent_treebank_pos_tagger to\n",
      "[nltk_data]    |     /home/caroline/nltk_data...\n",
      "[nltk_data]    |   Package maxent_treebank_pos_tagger is already up-\n",
      "[nltk_data]    |       to-date!\n",
      "[nltk_data]    | Downloading package maxent_ne_chunker to\n",
      "[nltk_data]    |     /home/caroline/nltk_data...\n",
      "[nltk_data]    |   Package maxent_ne_chunker is already up-to-date!\n",
      "[nltk_data]    | Downloading package universal_tagset to\n",
      "[nltk_data]    |     /home/caroline/nltk_data...\n",
      "[nltk_data]    |   Package universal_tagset is already up-to-date!\n",
      "[nltk_data]    | Downloading package punkt to\n",
      "[nltk_data]    |     /home/caroline/nltk_data...\n",
      "[nltk_data]    |   Package punkt is already up-to-date!\n",
      "[nltk_data]    | Downloading package book_grammars to\n",
      "[nltk_data]    |     /home/caroline/nltk_data...\n",
      "[nltk_data]    |   Package book_grammars is already up-to-date!\n",
      "[nltk_data]    | Downloading package city_database to\n",
      "[nltk_data]    |     /home/caroline/nltk_data...\n",
      "[nltk_data]    |   Package city_database is already up-to-date!\n",
      "[nltk_data]    | Downloading package tagsets to\n",
      "[nltk_data]    |     /home/caroline/nltk_data...\n",
      "[nltk_data]    |   Package tagsets is already up-to-date!\n",
      "[nltk_data]    | Downloading package panlex_swadesh to\n",
      "[nltk_data]    |     /home/caroline/nltk_data...\n",
      "[nltk_data]    |   Package panlex_swadesh is already up-to-date!\n",
      "[nltk_data]    | Downloading package averaged_perceptron_tagger to\n",
      "[nltk_data]    |     /home/caroline/nltk_data...\n",
      "[nltk_data]    |   Package averaged_perceptron_tagger is already up-\n",
      "[nltk_data]    |       to-date!\n",
      "[nltk_data]    | \n",
      "[nltk_data]  Done downloading collection book\n",
      "[nltk_data] Downloading package machado to /home/caroline/nltk_data...\n",
      "[nltk_data]   Package machado is already up-to-date!\n",
      "[nltk_data] Downloading package mac_morpho to\n",
      "[nltk_data]     /home/caroline/nltk_data...\n",
      "[nltk_data]   Package mac_morpho is already up-to-date!\n"
     ]
    },
    {
     "data": {
      "text/plain": [
       "True"
      ]
     },
     "execution_count": 12,
     "metadata": {},
     "output_type": "execute_result"
    }
   ],
   "source": [
    "import nltk\n",
    "nltk.download('book')\n",
    "nltk.download('machado')\n",
    "nltk.download('mac_morpho')"
   ]
  },
  {
   "cell_type": "code",
   "execution_count": 13,
   "metadata": {},
   "outputs": [
    {
     "name": "stdout",
     "output_type": "stream",
     "text": [
      "3121944\n",
      "['do', 'roastbeef', 'britân', ',', 'com', 'que', 'se', 'aliment', 'a', 'liberdad', 'do', 'rein', 'unid', '.', 'uma']\n",
      "['harp', 'eól', ';', 'am', 'desmai', ',', 'vid', 'contempl', ',', 'mort', 'suspir', '.', 'figur', 'poé', ',']\n",
      "['ardent', 'mulh', 'feit', 'refeit', 'perfeit', 'amig', 'boa', 'mes', 'bom', 'cop', 'est', 'mis', 'doll', 'preferir', 'quart']\n",
      "<class 'list'>\n"
     ]
    }
   ],
   "source": [
    "from nltk.corpus import machado\n",
    "wm=machado.words() # mesma coisa que usar o tokenize?\n",
    "print(len(wm))\n",
    "wm[0:10]\n",
    "\n",
    "livro = Stemming(wm)\n",
    "print(livro[215:230])\n",
    "\n",
    "livro = RemoveStopWords(livro)\n",
    "print(livro[215:230])\n",
    "\n",
    "words = [word for word in livro if word.isalpha()]\n",
    "\n",
    "print(words[215:230])\n",
    "\n",
    "print(type(words))"
   ]
  },
  {
   "cell_type": "code",
   "execution_count": 14,
   "metadata": {},
   "outputs": [],
   "source": [
    "import gensim\n",
    "from gensim.models import Word2Vec\n",
    "model = Word2Vec(words)"
   ]
  },
  {
   "cell_type": "code",
   "execution_count": 15,
   "metadata": {},
   "outputs": [
    {
     "name": "stdout",
     "output_type": "stream",
     "text": [
      "['c', 'o', 'n', 't', 'f', 'l', 'u', 'm', 'i', 'e', 'x', 'b', 'r', 'p', 'a', 'h', 's', 'v', 'j', 'g', 'd', 'í', 'ú', 'ç', 'q', 'ã', 'z', 'ê', 'ó', 'á', 'k', 'â', 'y', 'ô', 'é', 'w', 'ü', 'è', 'º', 'õ', 'à', 'ª', 'î', 'ë', 'ù', 'û', 'ñ', 'ä']\n"
     ]
    }
   ],
   "source": [
    "from gensim.models import Word2Vec\n",
    "\n",
    "# sem nenhum outro parametro\n",
    "#print(type(words))\n",
    "model = Word2Vec(words)\n",
    "#model.save(\"word2vec.model\")\n",
    "vocabulary = list(model.wv.vocab)\n",
    "print(vocabulary)"
   ]
  },
  {
   "cell_type": "code",
   "execution_count": 16,
   "metadata": {},
   "outputs": [
    {
     "ename": "ModuleNotFoundError",
     "evalue": "No module named 'urllib2'",
     "output_type": "error",
     "traceback": [
      "\u001b[0;31m---------------------------------------------------------------------------\u001b[0m",
      "\u001b[0;31mModuleNotFoundError\u001b[0m                       Traceback (most recent call last)",
      "\u001b[0;32m<ipython-input-16-4c6e99f6ae16>\u001b[0m in \u001b[0;36m<module>\u001b[0;34m\u001b[0m\n\u001b[0;32m----> 1\u001b[0;31m \u001b[0;32mfrom\u001b[0m \u001b[0murllib2\u001b[0m \u001b[0;32mimport\u001b[0m \u001b[0murlopen\u001b[0m\u001b[0;34m\u001b[0m\u001b[0;34m\u001b[0m\u001b[0m\n\u001b[0m\u001b[1;32m      2\u001b[0m \u001b[0murl\u001b[0m \u001b[0;34m=\u001b[0m \u001b[0;34m\"http://www.gutenberg.org/cache/epub/55752/pg55752.txt\"\u001b[0m\u001b[0;34m\u001b[0m\u001b[0;34m\u001b[0m\u001b[0m\n\u001b[1;32m      3\u001b[0m \u001b[0mlivro\u001b[0m \u001b[0;34m=\u001b[0m \u001b[0murlopen\u001b[0m\u001b[0;34m(\u001b[0m\u001b[0murl\u001b[0m\u001b[0;34m)\u001b[0m\u001b[0;34m\u001b[0m\u001b[0;34m\u001b[0m\u001b[0m\n\u001b[1;32m      4\u001b[0m \u001b[0mlivro_raw\u001b[0m \u001b[0;34m=\u001b[0m \u001b[0mlivro\u001b[0m\u001b[0;34m.\u001b[0m\u001b[0mread\u001b[0m\u001b[0;34m(\u001b[0m\u001b[0;34m)\u001b[0m\u001b[0;34m.\u001b[0m\u001b[0mdecode\u001b[0m\u001b[0;34m(\u001b[0m\u001b[0;34m'utf-8-sig'\u001b[0m\u001b[0;34m)\u001b[0m\u001b[0;34m\u001b[0m\u001b[0;34m\u001b[0m\u001b[0m\n\u001b[1;32m      5\u001b[0m \u001b[0mprint\u001b[0m\u001b[0;34m(\u001b[0m\u001b[0mtype\u001b[0m\u001b[0;34m(\u001b[0m\u001b[0mlist\u001b[0m\u001b[0;34m(\u001b[0m\u001b[0mlivro_raw\u001b[0m\u001b[0;34m)\u001b[0m\u001b[0;34m)\u001b[0m\u001b[0;34m)\u001b[0m\u001b[0;34m\u001b[0m\u001b[0;34m\u001b[0m\u001b[0m\n",
      "\u001b[0;31mModuleNotFoundError\u001b[0m: No module named 'urllib2'"
     ]
    }
   ],
   "source": [
    "from urllib2 import urlopen\n",
    "url = \"http://www.gutenberg.org/cache/epub/55752/pg55752.txt\"\n",
    "livro = urlopen(url)\n",
    "livro_raw = livro.read().decode('utf-8-sig')\n",
    "print(type(list(livro_raw)))\n",
    "print(len(list(livro_raw)))\n",
    "list(livro_raw[1:75])\n",
    "\n",
    "\n",
    "# import nltk\n",
    "# nltk.download('machado')\n",
    "# from nltk.corpus import machado\n",
    "# wm=machado.words() \n",
    "# len(wm)"
   ]
  },
  {
   "cell_type": "code",
   "execution_count": null,
   "metadata": {},
   "outputs": [],
   "source": [
    "print(type(livro_raw))\n",
    "sentences = nltk.sent_tokenize(livro_raw)\n",
    "sentences = nltk.word_tokenize(livro_raw)\n",
    "\n",
    "print(len(sentences))\n",
    "\n",
    "print(sentences[215:230])\n",
    "\n",
    "#stopwords = nltk.corpus.stopwords.words('portuguese')\n",
    "\n",
    "# tl1=[]\n",
    "# for t in sentences:\n",
    "#   tl1.append(t.lower())\n",
    "\n",
    "# tl2=[]\n",
    "# for t in tl1:\n",
    "#     if t not in stopwords:\n",
    "#         tl2.append(t.lower())\n",
    "    \n",
    "# import nltk\n",
    "# stemmer = nltk.stem.RSLPStemmer()\n",
    "# livro = []\n",
    "# for w in sentences:\n",
    "#     livro = stemmer.stem(w)\n",
    "\n",
    "\n",
    "livro = Stemming(sentences)\n",
    "print(livro[215:230])\n",
    "\n",
    "livro = RemoveStopWords(livro)\n",
    "print(livro[215:230])\n",
    "\n",
    "words = [word for word in livro if word.isalpha()]\n",
    "\n",
    "print(words[215:230])\n",
    "\n",
    "print(type(words))"
   ]
  },
  {
   "cell_type": "code",
   "execution_count": null,
   "metadata": {},
   "outputs": [],
   "source": [
    "from gensim.models import Word2Vec\n",
    "\n",
    "# sem nenhum outro parametro\n",
    "print(type(words))\n",
    "print(words[:30])\n",
    "model = Word2Vec(words)\n",
    "vocabulary = list(model.wv.vocab)\n",
    "print(vocabulary)\n",
    "# similar_words = model.most_similar('lua')\n",
    "# print(similar_words)"
   ]
  },
  {
   "cell_type": "code",
   "execution_count": null,
   "metadata": {},
   "outputs": [],
   "source": [
    "# adicionando o primeiro parâmetro\n",
    "\n",
    "#\n",
    "model = Word2Vec(words, min_count = 2)\n",
    "model = Word2Vec(words, min_count = 1)\n",
    "vocabulary = model.wv.vocab\n",
    "print(vocabulary)"
   ]
  },
  {
   "cell_type": "code",
   "execution_count": null,
   "metadata": {},
   "outputs": [],
   "source": [
    "# adicionando o segundo parâmetro\n",
    "# window - max distancia entre a palavra\n",
    "model = Word2Vec(words, window = 2)\n",
    "vocabulary = model.wv.vocab\n",
    "print(vocabulary)"
   ]
  },
  {
   "cell_type": "code",
   "execution_count": null,
   "metadata": {},
   "outputs": [],
   "source": [
    "# adicionando o terceiro parâmetro\n",
    "#size -  dimensão dos vetores (50, 300)\n",
    "model = Word2Vec(livro, size = 100)\n",
    "model = Word2Vec(livro, size = 300)\n",
    "vocabulary = model.wv.vocab\n",
    "print(vocabulary)"
   ]
  },
  {
   "cell_type": "code",
   "execution_count": null,
   "metadata": {},
   "outputs": [],
   "source": [
    "# adicionando o quarto parâmetro\n",
    "# sample - O limite para configurar quais palavras de alta frequência são reduzidas aleatoriamente.  (0, 1e-5)\n",
    "model = Word2Vec(livro, sample=6e-5)\n",
    "vocabulary = model.wv.vocab\n",
    "print(vocabulary)"
   ]
  },
  {
   "cell_type": "code",
   "execution_count": null,
   "metadata": {},
   "outputs": [],
   "source": [
    "# adicionando o quinto parâmetro\n",
    "# alpha = The initial learning rate - (0.01, 0.05)\n",
    "model = Word2Vec(livro, alpha=0.03)\n",
    "vocabulary = model.wv.vocab\n",
    "print(vocabulary)"
   ]
  },
  {
   "cell_type": "code",
   "execution_count": null,
   "metadata": {},
   "outputs": [],
   "source": [
    "# adicionando o sexto parâmetro\n",
    "# min_alpha = A taxa de aprendizado cai linearmente para min_alpha à medida que o treinamento avança. To set it: alpha - (min_alpha * epochs) ~ 0.00\n",
    "model = Word2Vec(livro, min_alpha=0.0007)\n",
    "vocabulary = model.wv.vocab\n",
    "print(vocabulary)"
   ]
  },
  {
   "cell_type": "code",
   "execution_count": null,
   "metadata": {},
   "outputs": [],
   "source": [
    "# adicionando o sétimo parâmetro\n",
    "# negative = If > 0, negative sampling will be used, the int for negative specifies how many \"noise words\" should be drown. If set to 0, no negative sampling is used. - (5, 20)\n",
    "model = Word2Vec(livro, negative=20)\n",
    "vocabulary = model.wv.vocab\n",
    "print(vocabulary)"
   ]
  },
  {
   "cell_type": "code",
   "execution_count": null,
   "metadata": {},
   "outputs": [],
   "source": [
    "# adicionando o oitavo parâmetro\n",
    "# workers = Use esses muitos threads de trabalho para treinar o modelo (= treinamento mais rápido com máquinas multicore)\n",
    "model = Word2Vec(livro, workers=1)\n",
    "vocabulary = model.wv.vocab\n",
    "print(vocabulary)"
   ]
  },
  {
   "cell_type": "code",
   "execution_count": null,
   "metadata": {},
   "outputs": [],
   "source": []
  },
  {
   "cell_type": "markdown",
   "metadata": {},
   "source": [
    "# Amostragem Negativa\n",
    "\n",
    "Cada peso na rede neural será ajustado a cada amostra. Levando em conta um vocabulário muito grande (o que é desejável), esse ajuste de pesos leva muito tempo, por ter muitos pesos, e requer um esforço computacional grande.\n",
    "A amostragem negativa resolve isso, pois faz com que cada amostra de treinamento modifique apenas uma pequena porcentagem dos pesos, em vez de todos eles.\n",
    "\n",
    "Na frase \"Eu ando de bicicleta no parque todos os domingos\", ao treinar a rede no par (bicicleta, parque), todos os outros ((bicicleta, eu), (bicicleta, ando), (bicicleta,domingos)) seriam 0 e \"parque\" com 1. Ou seja, para gerar a palavra de saída \"parque\", como 1, deve colocar 0 em muitas outras, isso é demorado. \n",
    "Por isso usamos a amostragem negativa: *escolhe-se algumas palavras como palavras negativas para atualizar os pesos dos neurônios e não todas as palavras.\n",
    "\n",
    "*\"O artigo diz que a seleção de 5 a 20 palavras funciona bem para conjuntos de dados menores, e você pode usar apenas 2 a 5 palavras para conjuntos de dados grandes.\""
   ]
  },
  {
   "cell_type": "markdown",
   "metadata": {},
   "source": [
    "# Épocas\n",
    "\n",
    "Uma época é uma medida do tempo que todos os vetores de treinamento são usados.\n",
    "\n",
    "\"Na terminologia da rede neural:\n",
    "\n",
    "    uma época = uma passagem para frente e uma passagem para trás de todos os exemplos de treinamento;\n",
    "    \n",
    "    tamanho do lote = o número de exemplos de treinamento em uma passagem para frente / trás. Quanto maior o tamanho do lote, mais espaço de memória será necessário.\n",
    "    \n",
    "    número de iterações = número de passagens, cada passagem usando o número de exemplos [tamanho do lote]. Para ser claro, uma passagem = uma passagem para frente + uma passagem para trás (não contamos a passagem para frente e para trás como duas passagens diferentes).\n",
    "\n",
    "Exemplo: se você tiver 1000 exemplos de treinamento e seu tamanho de lote for 500, serão necessárias duas iterações para concluir uma época.\"\n",
    "\n",
    "Dada a complexidade e a variabilidade dos dados em problemas do mundo real, pode levar de centenas a milhares de épocas para obter alguma precisão sensata nos dados de teste. Além disso, o termo época varia em definição de acordo com o problema em questão.\n",
    "\n"
   ]
  }
 ],
 "metadata": {
  "kernelspec": {
   "display_name": "Python 3",
   "language": "python",
   "name": "python3"
  },
  "language_info": {
   "codemirror_mode": {
    "name": "ipython",
    "version": 3
   },
   "file_extension": ".py",
   "mimetype": "text/x-python",
   "name": "python",
   "nbconvert_exporter": "python",
   "pygments_lexer": "ipython3",
   "version": "3.6.8"
  }
 },
 "nbformat": 4,
 "nbformat_minor": 2
}
